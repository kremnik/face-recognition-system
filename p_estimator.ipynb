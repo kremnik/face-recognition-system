{
 "cells": [
  {
   "cell_type": "code",
   "execution_count": 1,
   "metadata": {
    "collapsed": true
   },
   "outputs": [],
   "source": [
    "import h5py\n",
    "import numpy as np\n",
    "import matplotlib.pyplot as plt\n",
    "%matplotlib inline"
   ]
  },
  {
   "cell_type": "code",
   "execution_count": 2,
   "metadata": {
    "collapsed": true
   },
   "outputs": [],
   "source": [
    "def preprocessing(X, num_components = 50):\n",
    "    num_features = X.shape[1]\n",
    "    \n",
    "    X = X - np.mean(X, axis=0) # centering\n",
    "    X = X / X.std(axis=0) # standardization\n",
    "\n",
    "    # PCA\n",
    "    cov = np.cov(X.T)\n",
    "    eig_vals, eig_vecs = np.linalg.eig(cov)\n",
    "\n",
    "    for ev in eig_vecs:\n",
    "        np.testing.assert_array_almost_equal(1.0, np.linalg.norm(ev))\n",
    "\n",
    "    # Make a list of (eigenvalue, eigenvector) tuples\n",
    "    eig_pairs = [(np.abs(eig_vals[i]), eig_vecs[:,i]) for i in range(len(eig_vals))]\n",
    "\n",
    "    # Sort the (eigenvalue, eigenvector) tuples from high to low\n",
    "    eig_pairs.sort()\n",
    "    eig_pairs.reverse()\n",
    "\n",
    "    pca_matrix = eig_pairs[0][1].reshape(num_features, 1)\n",
    "\n",
    "    for i in range(1, num_components):\n",
    "        pca_matrix = np.hstack((pca_matrix,\n",
    "                                eig_pairs[i][1].reshape(num_features, 1)))\n",
    "\n",
    "    X = X.dot(pca_matrix)\n",
    "\n",
    "    # Whitening\n",
    "    X = X / np.sqrt(eig_vals[:num_components])\n",
    "    \n",
    "    return X"
   ]
  },
  {
   "cell_type": "code",
   "execution_count": 3,
   "metadata": {
    "collapsed": true
   },
   "outputs": [],
   "source": [
    "def calc(x, y):\n",
    "    return np.sqrt(np.sum(np.power(x - (y / 2), 2)))"
   ]
  },
  {
   "cell_type": "markdown",
   "metadata": {},
   "source": [
    "***Inception v4***"
   ]
  },
  {
   "cell_type": "code",
   "execution_count": 37,
   "metadata": {
    "collapsed": true
   },
   "outputs": [],
   "source": [
    "X_1 = np.load(\"./embeddings_inception_v4.npy\")\n",
    "X_1 = preprocessing(X_1)"
   ]
  },
  {
   "cell_type": "markdown",
   "metadata": {},
   "source": [
    "***Inception ResNet v1***"
   ]
  },
  {
   "cell_type": "code",
   "execution_count": 38,
   "metadata": {
    "collapsed": true
   },
   "outputs": [],
   "source": [
    "X_2 = np.load(\"./embeddings.npy\")\n",
    "X_2 = preprocessing(X_2)"
   ]
  },
  {
   "cell_type": "code",
   "execution_count": 40,
   "metadata": {},
   "outputs": [
    {
     "name": "stdout",
     "output_type": "stream",
     "text": [
      "Loop:  0\n",
      "[ 0.076  0.     0.     0.     0.     0.     0.     0.     0.     0.   ]\n",
      "Loop:  1\n",
      "[ 0.076  0.056  0.     0.     0.     0.     0.     0.     0.     0.   ]\n",
      "Loop:  2\n",
      "[ 0.076  0.056  0.086  0.     0.     0.     0.     0.     0.     0.   ]\n",
      "Loop:  3\n",
      "[ 0.076  0.056  0.086  0.071  0.     0.     0.     0.     0.     0.   ]\n",
      "Loop:  4\n",
      "[ 0.076  0.056  0.086  0.071  0.077  0.     0.     0.     0.     0.   ]\n",
      "Loop:  5\n",
      "[ 0.076  0.056  0.086  0.071  0.077  0.067  0.     0.     0.     0.   ]\n",
      "Loop:  6\n",
      "[ 0.076  0.056  0.086  0.071  0.077  0.067  0.067  0.     0.     0.   ]\n",
      "Loop:  7\n",
      "[ 0.076  0.056  0.086  0.071  0.077  0.067  0.067  0.065  0.     0.   ]\n",
      "Loop:  8\n",
      "[ 0.076  0.056  0.086  0.071  0.077  0.067  0.067  0.065  0.068  0.   ]\n",
      "Loop:  9\n",
      "[ 0.076  0.056  0.086  0.071  0.077  0.067  0.067  0.065  0.068  0.067]\n"
     ]
    }
   ],
   "source": [
    "current = X_2\n",
    "\n",
    "loops = 10\n",
    "means = np.zeros(loops)\n",
    "\n",
    "count = 0\n",
    "cnt = 0\n",
    "\n",
    "lng_data = len(current)\n",
    "\n",
    "for j in range(loops):\n",
    "    print(\"Loop: \", j)\n",
    "    \n",
    "    indx = np.random.choice(lng_data, 1000)\n",
    "    lng = len(indx)\n",
    "    points = np.zeros(lng)\n",
    "    \n",
    "    for i in current[indx]:\n",
    "        indexes = np.random.choice(lng_data, 1000)\n",
    "\n",
    "        for k in current[indexes]:\n",
    "            if calc(i, k) <= (np.linalg.norm(k) / 2):\n",
    "                count += 1\n",
    "\n",
    "        points[cnt] = count\n",
    "        count = 0\n",
    "        \n",
    "        cnt += 1\n",
    "        \n",
    "    cnt = 0\n",
    "    means[j] = points.mean()\n",
    "    print(means)"
   ]
  },
  {
   "cell_type": "markdown",
   "metadata": {},
   "source": [
    "***Inception v4***"
   ]
  },
  {
   "cell_type": "code",
   "execution_count": 39,
   "metadata": {},
   "outputs": [
    {
     "name": "stdout",
     "output_type": "stream",
     "text": [
      "Loop:  0\n",
      "[ 0.125  0.     0.     0.     0.     0.     0.     0.     0.     0.   ]\n",
      "Loop:  1\n",
      "[ 0.125  0.137  0.     0.     0.     0.     0.     0.     0.     0.   ]\n",
      "Loop:  2\n",
      "[ 0.125  0.137  0.144  0.     0.     0.     0.     0.     0.     0.   ]\n",
      "Loop:  3\n",
      "[ 0.125  0.137  0.144  0.127  0.     0.     0.     0.     0.     0.   ]\n",
      "Loop:  4\n",
      "[ 0.125  0.137  0.144  0.127  0.097  0.     0.     0.     0.     0.   ]\n",
      "Loop:  5\n",
      "[ 0.125  0.137  0.144  0.127  0.097  0.133  0.     0.     0.     0.   ]\n",
      "Loop:  6\n",
      "[ 0.125  0.137  0.144  0.127  0.097  0.133  0.117  0.     0.     0.   ]\n",
      "Loop:  7\n",
      "[ 0.125  0.137  0.144  0.127  0.097  0.133  0.117  0.153  0.     0.   ]\n",
      "Loop:  8\n",
      "[ 0.125  0.137  0.144  0.127  0.097  0.133  0.117  0.153  0.157  0.   ]\n",
      "Loop:  9\n",
      "[ 0.125  0.137  0.144  0.127  0.097  0.133  0.117  0.153  0.157  0.109]\n"
     ]
    }
   ],
   "source": [
    "current = X_1\n",
    "\n",
    "loops = 10\n",
    "means = np.zeros(loops)\n",
    "\n",
    "count = 0\n",
    "cnt = 0\n",
    "\n",
    "lng_data = len(current)\n",
    "\n",
    "for j in range(loops):\n",
    "    print(\"Loop: \", j)\n",
    "    \n",
    "    indx = np.random.choice(lng_data, 1000)\n",
    "    lng = len(indx)\n",
    "    points = np.zeros(lng)\n",
    "    \n",
    "    for i in current[indx]:\n",
    "        indexes = np.random.choice(lng_data, 1000)\n",
    "\n",
    "        for k in current[indexes]:\n",
    "            if calc(i, k) <= (np.linalg.norm(k) / 2):\n",
    "                count += 1\n",
    "\n",
    "        points[cnt] = count\n",
    "        count = 0\n",
    "        \n",
    "        cnt += 1\n",
    "        \n",
    "    cnt = 0\n",
    "    means[j] = points.mean()\n",
    "    print(means)"
   ]
  },
  {
   "cell_type": "markdown",
   "metadata": {
    "collapsed": true
   },
   "source": [
    "***Resnet v2***"
   ]
  },
  {
   "cell_type": "code",
   "execution_count": 29,
   "metadata": {
    "collapsed": true
   },
   "outputs": [],
   "source": [
    "X_3 = np.load(\"./embeddings_resnet_v2_152.npy\")\n",
    "X_3 = preprocessing(X_3)"
   ]
  },
  {
   "cell_type": "code",
   "execution_count": 35,
   "metadata": {},
   "outputs": [
    {
     "name": "stdout",
     "output_type": "stream",
     "text": [
      "Loop:  0\n",
      "[ 0.274  0.     0.     0.     0.     0.     0.     0.     0.     0.   ]\n",
      "Loop:  1\n",
      "[ 0.274  0.249  0.     0.     0.     0.     0.     0.     0.     0.   ]\n",
      "Loop:  2\n",
      "[ 0.274  0.249  0.258  0.     0.     0.     0.     0.     0.     0.   ]\n",
      "Loop:  3\n",
      "[ 0.274  0.249  0.258  0.242  0.     0.     0.     0.     0.     0.   ]\n",
      "Loop:  4\n",
      "[ 0.274  0.249  0.258  0.242  0.267  0.     0.     0.     0.     0.   ]\n",
      "Loop:  5\n",
      "[ 0.274  0.249  0.258  0.242  0.267  0.231  0.     0.     0.     0.   ]\n",
      "Loop:  6\n",
      "[ 0.274  0.249  0.258  0.242  0.267  0.231  0.229  0.     0.     0.   ]\n",
      "Loop:  7\n",
      "[ 0.274  0.249  0.258  0.242  0.267  0.231  0.229  0.247  0.     0.   ]\n",
      "Loop:  8\n",
      "[ 0.274  0.249  0.258  0.242  0.267  0.231  0.229  0.247  0.229  0.   ]\n",
      "Loop:  9\n",
      "[ 0.274  0.249  0.258  0.242  0.267  0.231  0.229  0.247  0.229  0.222]\n"
     ]
    }
   ],
   "source": [
    "current = X_3\n",
    "\n",
    "loops = 10\n",
    "means = np.zeros(loops)\n",
    "\n",
    "count = 0\n",
    "cnt = 0\n",
    "\n",
    "lng_data = len(current)\n",
    "\n",
    "for j in range(loops):\n",
    "    print(\"Loop: \", j)\n",
    "    \n",
    "    indx = np.random.choice(lng_data, 1000)\n",
    "    lng = len(indx)\n",
    "    points = np.zeros(lng)\n",
    "    \n",
    "    for i in current[indx]:\n",
    "        indexes = np.random.choice(lng_data, 1000)\n",
    "\n",
    "        for k in current[indexes]:\n",
    "            if calc(i, k) <= (np.linalg.norm(k) / 2):\n",
    "                count += 1\n",
    "\n",
    "        points[cnt] = count\n",
    "        count = 0\n",
    "        \n",
    "        cnt += 1\n",
    "        \n",
    "    cnt = 0\n",
    "    means[j] = points.mean()\n",
    "    print(means)"
   ]
  },
  {
   "cell_type": "code",
   "execution_count": null,
   "metadata": {
    "collapsed": true
   },
   "outputs": [],
   "source": []
  }
 ],
 "metadata": {
  "kernelspec": {
   "display_name": "Python 3",
   "language": "python",
   "name": "python3"
  },
  "language_info": {
   "codemirror_mode": {
    "name": "ipython",
    "version": 3
   },
   "file_extension": ".py",
   "mimetype": "text/x-python",
   "name": "python",
   "nbconvert_exporter": "python",
   "pygments_lexer": "ipython3",
   "version": "3.6.3"
  }
 },
 "nbformat": 4,
 "nbformat_minor": 2
}
