{
 "cells": [
  {
   "cell_type": "code",
   "execution_count": 1,
   "metadata": {},
   "outputs": [
    {
     "name": "stderr",
     "output_type": "stream",
     "text": [
      "D:\\Anaconda3\\lib\\site-packages\\h5py\\__init__.py:36: FutureWarning: Conversion of the second argument of issubdtype from `float` to `np.floating` is deprecated. In future, it will be treated as `np.float64 == np.dtype(float).type`.\n",
      "  from ._conv import register_converters as _register_converters\n"
     ]
    }
   ],
   "source": [
    "import h5py\n",
    "import numpy as np\n",
    "import matplotlib.pyplot as plt\n",
    "%matplotlib inline"
   ]
  },
  {
   "cell_type": "code",
   "execution_count": 2,
   "metadata": {},
   "outputs": [],
   "source": [
    "def preprocessing(X, num_components = 50):\n",
    "    num_features = X.shape[1]\n",
    "    \n",
    "    X = X - np.mean(X, axis=0) # centering\n",
    "    X = X / X.std(axis=0) # standardization\n",
    "\n",
    "    # PCA\n",
    "    cov = np.cov(X.T)\n",
    "    eig_vals, eig_vecs = np.linalg.eig(cov)\n",
    "\n",
    "    for ev in eig_vecs:\n",
    "        np.testing.assert_array_almost_equal(1.0, np.linalg.norm(ev))\n",
    "\n",
    "    # Make a list of (eigenvalue, eigenvector) tuples\n",
    "    eig_pairs = [(np.abs(eig_vals[i]), eig_vecs[:,i]) for i in range(len(eig_vals))]\n",
    "\n",
    "    # Sort the (eigenvalue, eigenvector) tuples from high to low\n",
    "    eig_pairs.sort()\n",
    "    eig_pairs.reverse()\n",
    "\n",
    "    pca_matrix = eig_pairs[0][1].reshape(num_features, 1)\n",
    "\n",
    "    for i in range(1, num_components):\n",
    "        pca_matrix = np.hstack((pca_matrix,\n",
    "                                eig_pairs[i][1].reshape(num_features, 1)))\n",
    "\n",
    "    X = X.dot(pca_matrix)\n",
    "\n",
    "    # Whitening\n",
    "    X = X / np.sqrt(eig_vals[:num_components])\n",
    "    \n",
    "    return X"
   ]
  },
  {
   "cell_type": "code",
   "execution_count": 3,
   "metadata": {},
   "outputs": [],
   "source": [
    "def calc(x, y):\n",
    "    return np.sqrt(np.sum(np.power(x - (y / 2), 2)))"
   ]
  },
  {
   "cell_type": "code",
   "execution_count": 4,
   "metadata": {},
   "outputs": [],
   "source": [
    "def estimate(data, loops = 10, num_elements = 1000):\n",
    "    current = data\n",
    "    means = np.zeros(loops)\n",
    "\n",
    "    count = 0\n",
    "    cnt = 0\n",
    "\n",
    "    lng_data = len(current)\n",
    "\n",
    "    for j in range(loops):\n",
    "        print(\"Loop: \", j)\n",
    "\n",
    "        indx = np.random.choice(lng_data, num_elements)\n",
    "        lng = len(indx)\n",
    "        points = np.zeros(lng)\n",
    "\n",
    "        for i in current[indx]:\n",
    "            indexes = np.random.choice(lng_data, num_elements)\n",
    "\n",
    "            for k in current[indexes]:\n",
    "                if calc(i, k) <= (np.linalg.norm(k) / 2):\n",
    "                    count += 1\n",
    "\n",
    "            points[cnt] = count\n",
    "            count = 0\n",
    "\n",
    "            cnt += 1\n",
    "\n",
    "        cnt = 0\n",
    "        means[j] = points.mean()\n",
    "        print(means)"
   ]
  },
  {
   "cell_type": "markdown",
   "metadata": {},
   "source": [
    "***Inception v4***"
   ]
  },
  {
   "cell_type": "code",
   "execution_count": 5,
   "metadata": {},
   "outputs": [],
   "source": [
    "X_1 = np.load(\"./embeddings_inception_v4.npy\")\n",
    "X_1 = preprocessing(X_1)"
   ]
  },
  {
   "cell_type": "code",
   "execution_count": 6,
   "metadata": {},
   "outputs": [
    {
     "name": "stdout",
     "output_type": "stream",
     "text": [
      "Loop:  0\n",
      "[0.134 0.    0.    0.    0.    0.    0.    0.    0.    0.   ]\n",
      "Loop:  1\n",
      "[0.134 0.106 0.    0.    0.    0.    0.    0.    0.    0.   ]\n",
      "Loop:  2\n",
      "[0.134 0.106 0.126 0.    0.    0.    0.    0.    0.    0.   ]\n",
      "Loop:  3\n",
      "[0.134 0.106 0.126 0.131 0.    0.    0.    0.    0.    0.   ]\n",
      "Loop:  4\n",
      "[0.134 0.106 0.126 0.131 0.135 0.    0.    0.    0.    0.   ]\n",
      "Loop:  5\n",
      "[0.134 0.106 0.126 0.131 0.135 0.112 0.    0.    0.    0.   ]\n",
      "Loop:  6\n",
      "[0.134 0.106 0.126 0.131 0.135 0.112 0.138 0.    0.    0.   ]\n",
      "Loop:  7\n",
      "[0.134 0.106 0.126 0.131 0.135 0.112 0.138 0.106 0.    0.   ]\n",
      "Loop:  8\n",
      "[0.134 0.106 0.126 0.131 0.135 0.112 0.138 0.106 0.121 0.   ]\n",
      "Loop:  9\n",
      "[0.134 0.106 0.126 0.131 0.135 0.112 0.138 0.106 0.121 0.152]\n"
     ]
    }
   ],
   "source": [
    "estimate(X_1)"
   ]
  },
  {
   "cell_type": "markdown",
   "metadata": {},
   "source": [
    "***Inception ResNet v1***"
   ]
  },
  {
   "cell_type": "code",
   "execution_count": 7,
   "metadata": {},
   "outputs": [],
   "source": [
    "X_2 = np.load(\"./embeddings_inception_resnet_v1.npy\")\n",
    "X_2 = preprocessing(X_2)"
   ]
  },
  {
   "cell_type": "code",
   "execution_count": 8,
   "metadata": {},
   "outputs": [
    {
     "name": "stdout",
     "output_type": "stream",
     "text": [
      "Loop:  0\n",
      "[0.064 0.    0.    0.    0.    0.    0.    0.    0.    0.   ]\n",
      "Loop:  1\n",
      "[0.064 0.073 0.    0.    0.    0.    0.    0.    0.    0.   ]\n",
      "Loop:  2\n",
      "[0.064 0.073 0.07  0.    0.    0.    0.    0.    0.    0.   ]\n",
      "Loop:  3\n",
      "[0.064 0.073 0.07  0.073 0.    0.    0.    0.    0.    0.   ]\n",
      "Loop:  4\n",
      "[0.064 0.073 0.07  0.073 0.046 0.    0.    0.    0.    0.   ]\n",
      "Loop:  5\n",
      "[0.064 0.073 0.07  0.073 0.046 0.057 0.    0.    0.    0.   ]\n",
      "Loop:  6\n",
      "[0.064 0.073 0.07  0.073 0.046 0.057 0.069 0.    0.    0.   ]\n",
      "Loop:  7\n",
      "[0.064 0.073 0.07  0.073 0.046 0.057 0.069 0.083 0.    0.   ]\n",
      "Loop:  8\n",
      "[0.064 0.073 0.07  0.073 0.046 0.057 0.069 0.083 0.069 0.   ]\n",
      "Loop:  9\n",
      "[0.064 0.073 0.07  0.073 0.046 0.057 0.069 0.083 0.069 0.063]\n"
     ]
    }
   ],
   "source": [
    "estimate(X_2)"
   ]
  },
  {
   "cell_type": "markdown",
   "metadata": {
    "collapsed": true
   },
   "source": [
    "***ResNet v2***"
   ]
  },
  {
   "cell_type": "code",
   "execution_count": 9,
   "metadata": {},
   "outputs": [],
   "source": [
    "X_3 = np.load(\"./embeddings_resnet_v2_152.npy\")\n",
    "X_3 = preprocessing(X_3)"
   ]
  },
  {
   "cell_type": "code",
   "execution_count": 10,
   "metadata": {},
   "outputs": [
    {
     "name": "stdout",
     "output_type": "stream",
     "text": [
      "Loop:  0\n",
      "[0.26 0.   0.   0.   0.   0.   0.   0.   0.   0.  ]\n",
      "Loop:  1\n",
      "[0.26  0.285 0.    0.    0.    0.    0.    0.    0.    0.   ]\n",
      "Loop:  2\n",
      "[0.26  0.285 0.26  0.    0.    0.    0.    0.    0.    0.   ]\n",
      "Loop:  3\n",
      "[0.26  0.285 0.26  0.257 0.    0.    0.    0.    0.    0.   ]\n",
      "Loop:  4\n",
      "[0.26  0.285 0.26  0.257 0.27  0.    0.    0.    0.    0.   ]\n",
      "Loop:  5\n",
      "[0.26  0.285 0.26  0.257 0.27  0.252 0.    0.    0.    0.   ]\n",
      "Loop:  6\n",
      "[0.26  0.285 0.26  0.257 0.27  0.252 0.258 0.    0.    0.   ]\n",
      "Loop:  7\n",
      "[0.26  0.285 0.26  0.257 0.27  0.252 0.258 0.266 0.    0.   ]\n",
      "Loop:  8\n",
      "[0.26  0.285 0.26  0.257 0.27  0.252 0.258 0.266 0.252 0.   ]\n",
      "Loop:  9\n",
      "[0.26  0.285 0.26  0.257 0.27  0.252 0.258 0.266 0.252 0.28 ]\n"
     ]
    }
   ],
   "source": [
    "estimate(X_3)"
   ]
  }
 ],
 "metadata": {
  "kernelspec": {
   "display_name": "Python 3",
   "language": "python",
   "name": "python3"
  },
  "language_info": {
   "codemirror_mode": {
    "name": "ipython",
    "version": 3
   },
   "file_extension": ".py",
   "mimetype": "text/x-python",
   "name": "python",
   "nbconvert_exporter": "python",
   "pygments_lexer": "ipython3",
   "version": "3.6.5"
  }
 },
 "nbformat": 4,
 "nbformat_minor": 2
}
