{
 "cells": [
  {
   "cell_type": "code",
   "execution_count": 40,
   "metadata": {
    "collapsed": true
   },
   "outputs": [],
   "source": [
    "import os.path\n",
    "import math\n",
    "import re\n",
    "import tensorflow as tf\n",
    "import numpy as np\n",
    "import facenet\n",
    "from sklearn.decomposition import PCA\n",
    "from sklearn.manifold import TSNE\n",
    "import matplotlib.pyplot as plt\n",
    "%matplotlib inline"
   ]
  },
  {
   "cell_type": "code",
   "execution_count": 2,
   "metadata": {
    "collapsed": true
   },
   "outputs": [],
   "source": [
    "def get_model_filenames(model_dir):\n",
    "    files = os.listdir(model_dir)\n",
    "    meta_files = [s for s in files if s.endswith('.meta')]\n",
    "    if len(meta_files)==0:\n",
    "        raise ValueError('No meta file found in the model directory (%s)' % model_dir)\n",
    "    elif len(meta_files)>1:\n",
    "        raise ValueError('There should not be more than one meta file in the model directory (%s)' % model_dir)\n",
    "    meta_file = meta_files[0]\n",
    "    meta_files = [s for s in files if '.ckpt' in s]\n",
    "    max_step = -1\n",
    "    for f in files:\n",
    "        step_str = re.match(r'(^model-[\\w\\- ]+.ckpt-(\\d+))', f)\n",
    "        if step_str is not None and len(step_str.groups())>=2:\n",
    "            step = int(step_str.groups()[1])\n",
    "            if step > max_step:\n",
    "                max_step = step\n",
    "                ckpt_file = step_str.groups()[0]\n",
    "    return meta_file, ckpt_file\n",
    "\n",
    "def load_model(model, sess):\n",
    "    model_exp = os.path.expanduser(model)\n",
    "    print('Model directory: %s' % model_exp)\n",
    "    meta_file, ckpt_file = get_model_filenames(model_exp)\n",
    "\n",
    "    print('Metagraph file: %s' % meta_file)\n",
    "    print('Checkpoint file: %s' % ckpt_file)\n",
    "\n",
    "    saver = tf.train.import_meta_graph(os.path.join(model_exp, meta_file))\n",
    "    saver.restore(sess, os.path.join(model_exp, ckpt_file))"
   ]
  },
  {
   "cell_type": "code",
   "execution_count": 3,
   "metadata": {
    "collapsed": true
   },
   "outputs": [],
   "source": [
    "def forward(paths, batch_size):\n",
    "    nrof_images = len(paths)\n",
    "    nrof_batches = int(math.ceil(1.0*nrof_images / batch_size))\n",
    "    emb_array = np.zeros((nrof_images, embedding_size))\n",
    "\n",
    "    for i in range(nrof_batches):    \n",
    "        start_index = i*batch_size\n",
    "        end_index = min((i+1)*batch_size, nrof_images)\n",
    "        paths_batch = paths[start_index:end_index]\n",
    "        images = facenet.load_data(paths_batch, False, False, image_size)\n",
    "        feed_dict = { images_placeholder:images, phase_train_placeholder:False }\n",
    "        emb_array[start_index:end_index,:] = sess.run(embeddings, feed_dict=feed_dict)    \n",
    "        print(\"batch number:\", i)\n",
    "    print(\"Complete\")\n",
    "    \n",
    "    return emb_array\n",
    "\n",
    "def printDistance(emb_array, label_list, end=10):\n",
    "    threshold = 1.0\n",
    "    lng = len(emb_array[:end])\n",
    "    print('Distance matrix')\n",
    "    print('    ', end='')\n",
    "    for i in range(lng):\n",
    "        print('    %3d     ' % i, end='')\n",
    "    print('')\n",
    "    for i in range(lng):\n",
    "        print('%1d  ' % i, end='')\n",
    "        for j in range(lng):\n",
    "            dist = np.linalg.norm(emb_array[i,:] - emb_array[j,:])\n",
    "            print('  %1.4f' % dist, end='')\n",
    "            if (label_list[i] == label_list[j]) and (dist <= threshold):\n",
    "                print(\"(TP)\", end='')\n",
    "            elif (label_list[i] != label_list[j]) and (dist > threshold):\n",
    "                print(\"(TN)\", end='')\n",
    "            elif (label_list[i] == label_list[j]) and (dist > threshold):\n",
    "                print(\"\\033[93m(FN)\\033[0m\", end='')\n",
    "            elif (label_list[i] != label_list[j]) and (dist <= threshold):\n",
    "                print(\"\\033[93m(FP)\\033[0m\", end='')\n",
    "        print('')\n",
    "        \n",
    "def printData(labels, paths, number):\n",
    "    for i in range(number):\n",
    "        if i > 0 and labels[i] != labels[i-1]:\n",
    "            print('')\n",
    "        print('{0:3d} {1:3d}   {2:s}'.format(i, labels[i], paths[i].split(\"\\\\\")[1]))\n",
    "        # print('{0:3d}   {1:s}'.format(labels[i], paths[i].split(\"\\\\\")[1]))\n",
    "        \n",
    "def PCAtransform(emb_array, n_components = 10):\n",
    "    pca = PCA(n_components, whiten=True)\n",
    "    pca.fit(emb_array)\n",
    "    return pca.transform(emb_array), pca\n",
    "\n",
    "def splitTrainTest(data_set, percent_train):\n",
    "    paths, labels_list = facenet.get_image_paths_and_labels(data_set)\n",
    "    \n",
    "    lng = len(paths)\n",
    "    lng_train = int(lng * percent_train / 100);\n",
    "    lng_test = lng - lng_train\n",
    "    \n",
    "    train_paths = paths[0:lng_train]\n",
    "    test_paths = paths[lng_train:]\n",
    "    \n",
    "    train_labels = labels_list[0:lng_train]\n",
    "    test_labels = labels_list[lng_train:]\n",
    "    \n",
    "    return train_paths, train_labels, test_paths, test_labels\n",
    "\n",
    "def trainFisher(emb_array, y):\n",
    "    emb_del = np.empty_like(emb_array)\n",
    "    np.copyto(emb_del, emb_array)\n",
    "    \n",
    "    emb_array = np.vstack((emb_array, y))\n",
    "    \n",
    "    # y = emb_array[sample_number]\n",
    "    # emb_del = np.delete(emb_array, (sample_number), axis=0)\n",
    "    \n",
    "    E = np.linalg.inv(np.cov(emb_array.T))\n",
    "    D = (y - (1 / (len(emb_array) - 1) * np.sum(emb_del)))\n",
    "    \n",
    "    w = np.dot(E, D)\n",
    "    c = np.dot(w / np.linalg.norm(w), y)\n",
    "    \n",
    "    return c, w\n",
    "\n",
    "def trainFisherWithNum(emb_array, sample_number):    \n",
    "    y = emb_array[sample_number]\n",
    "    emb_del = np.delete(emb_array, (sample_number), axis=0)\n",
    "    \n",
    "    E = np.linalg.inv(np.cov(emb_array.T))\n",
    "    D = (y - (1 / (len(emb_array) - 1) * np.sum(emb_del)))\n",
    "    \n",
    "    w = np.dot(E, D)\n",
    "    c = np.dot(w / np.linalg.norm(w), y)\n",
    "    \n",
    "    return c, w    \n",
    "\n",
    "def Fisher(w, c, sample):\n",
    "    return np.dot(w / np.linalg.norm(w), sample) - c"
   ]
  },
  {
   "cell_type": "code",
   "execution_count": 144,
   "metadata": {
    "collapsed": true
   },
   "outputs": [],
   "source": [
    "def whiten(X, fudge=1E-18):\n",
    "    # the matrix X should be observations-by-components\n",
    "\n",
    "    # get the covariance matrix\n",
    "    Xcov = np.dot(X.T, X)\n",
    "\n",
    "    # eigenvalue decomposition of the covariance matrix\n",
    "    d, V = np.linalg.eigh(Xcov)\n",
    "\n",
    "    # a fudge factor can be used so that eigenvectors associated with\n",
    "    # small eigenvalues do not get overamplified.\n",
    "    D = np.diag(1. / np.sqrt(d+fudge))\n",
    "\n",
    "    # whitening matrix\n",
    "    W = np.dot(np.dot(V, D), V.T)\n",
    "\n",
    "    # multiply by the whitening matrix\n",
    "    X_white = np.dot(X, W)\n",
    "\n",
    "    return X_white, W"
   ]
  },
  {
   "cell_type": "code",
   "execution_count": 4,
   "metadata": {
    "collapsed": true
   },
   "outputs": [],
   "source": [
    "sess = tf.Session()"
   ]
  },
  {
   "cell_type": "code",
   "execution_count": 5,
   "metadata": {
    "collapsed": true
   },
   "outputs": [],
   "source": [
    "data_set = facenet.get_dataset(\"../../datasets/ownpeople/ownpeople_mtcnnpy_160/\")"
   ]
  },
  {
   "cell_type": "code",
   "execution_count": 6,
   "metadata": {
    "collapsed": true
   },
   "outputs": [],
   "source": [
    "train_paths, train_labels, test_paths, test_labels = splitTrainTest(data_set, 100)"
   ]
  },
  {
   "cell_type": "code",
   "execution_count": 7,
   "metadata": {},
   "outputs": [
    {
     "name": "stdout",
     "output_type": "stream",
     "text": [
      "Model directory: 20170511-185253\n",
      "Metagraph file: model-20170511-185253.meta\n",
      "Checkpoint file: model-20170511-185253.ckpt-80000\n",
      "WARNING:tensorflow:The saved meta_graph is possibly from an older release:\n",
      "'model_variables' collection should be of type 'byte_list', but instead is of type 'node_list'.\n",
      "INFO:tensorflow:Restoring parameters from 20170511-185253\\model-20170511-185253.ckpt-80000\n"
     ]
    }
   ],
   "source": [
    "load_model(\"20170511-185253\", sess)"
   ]
  },
  {
   "cell_type": "code",
   "execution_count": 8,
   "metadata": {
    "collapsed": true
   },
   "outputs": [],
   "source": [
    "images_placeholder = tf.get_default_graph().get_tensor_by_name(\"input:0\")\n",
    "embeddings = tf.get_default_graph().get_tensor_by_name(\"embeddings:0\")\n",
    "phase_train_placeholder = tf.get_default_graph().get_tensor_by_name(\"phase_train:0\")\n",
    "\n",
    "image_size = 160\n",
    "embedding_size = embeddings.get_shape()[1]"
   ]
  },
  {
   "cell_type": "code",
   "execution_count": 152,
   "metadata": {},
   "outputs": [
    {
     "name": "stdout",
     "output_type": "stream",
     "text": [
      "batch number: 0\n",
      "Complete\n"
     ]
    }
   ],
   "source": [
    "emb_array = forward(train_paths, 100) # 100 means 100 mini-batches"
   ]
  },
  {
   "cell_type": "code",
   "execution_count": 149,
   "metadata": {},
   "outputs": [
    {
     "data": {
      "text/plain": [
       "<matplotlib.collections.PathCollection at 0x79798185f8>"
      ]
     },
     "execution_count": 149,
     "metadata": {},
     "output_type": "execute_result"
    },
    {
     "data": {
      "image/png": "[encoded data removed]",
      "text/plain": [
       "<matplotlib.figure.Figure at 0x79763c52b0>"
      ]
     },
     "metadata": {},
     "output_type": "display_data"
    }
   ],
   "source": [
    "# Centering data\n",
    "\n",
    "mean = emb_array.mean(axis=0)\n",
    "emb_array = emb_array - mean\n",
    "\n",
    "fig = plt.figure()\n",
    "ax1 = fig.add_subplot(1,3,1)\n",
    "ax2 = fig.add_subplot(1,3,2)\n",
    "ax3 = fig.add_subplot(1,3,3)\n",
    "\n",
    "ax1.grid(True)\n",
    "ax1.set_xlim([-0.5, 5])\n",
    "ax1.set_ylim([-0.25, 0.25])\n",
    "ax2.grid(True)\n",
    "ax2.set_xlim([-0.5, 5])\n",
    "ax2.set_ylim([-0.25, 0.25])\n",
    "ax3.grid(True)\n",
    "ax3.set_xlim([-0.5, 5])\n",
    "ax3.set_ylim([-0.25, 0.25])\n",
    "\n",
    "ax1.plot(np.linspace(-0.5,5,num=23), np.zeros((23)), color=\"gray\")\n",
    "ax1.scatter(np.linspace(0,1,23), emb_array[:, 1], color=\"blue\")\n",
    "\n",
    "ax2.plot(np.linspace(-0.5,5,num=23), np.zeros((23)), color=\"gray\")\n",
    "ax2.scatter(np.linspace(0,1,23), emb_array[:, 10], color=\"blue\")\n",
    "\n",
    "ax3.plot(np.linspace(-0.5,5,num=23), np.zeros((23)), color=\"gray\")\n",
    "ax3.scatter(np.linspace(0,1,23), emb_array[:, 127], color=\"blue\")"
   ]
  },
  {
   "cell_type": "code",
   "execution_count": 176,
   "metadata": {},
   "outputs": [],
   "source": [
    "# Whitening data\n",
    "emb_array, _ = whiten(emb_array, 1E-12)"
   ]
  },
  {
   "cell_type": "code",
   "execution_count": 177,
   "metadata": {
    "collapsed": true
   },
   "outputs": [],
   "source": [
    "# Copying for save the original array\n",
    "emb_origin = np.empty_like(emb_array)\n",
    "np.copyto(emb_origin, emb_array)"
   ]
  },
  {
   "cell_type": "code",
   "execution_count": 178,
   "metadata": {
    "collapsed": true
   },
   "outputs": [],
   "source": [
    "emb_pca, _ = PCAtransform(emb_array, 100)\n",
    "origin_pca, _ = PCAtransform(emb_origin, 100)"
   ]
  },
  {
   "cell_type": "code",
   "execution_count": 179,
   "metadata": {},
   "outputs": [
    {
     "name": "stdout",
     "output_type": "stream",
     "text": [
      "  0   1   photo_2016-11-04_19-33-44.png\n",
      "  1   1   photo_2016-11-19_23-42-00.png\n",
      "  2   1   photo_2016-12-25_20-59-04.png\n",
      "  3   1   photo_2016-12-25_20-59-23.png\n",
      "  4   1   photo_2017-03-10_12-46-19.png\n",
      "  5   1   photo_2017-05-23_21-38-22.png\n",
      "  6   1   photo_2017-08-26_20-24-22.png\n",
      "  7   1   photo_2017-09-08_15-05-01.png\n",
      "  8   1   photo_2017-10-24_15-01-13.png\n",
      "  9   1   photo_2017-10-31_16-36-11.png\n",
      "\n",
      " 10   3   photo_2016-07-04_22-38-35.png\n",
      " 11   3   photo_2016-07-12_13-26-07.png\n",
      " 12   3   photo_2016-07-21_00-38-16.png\n",
      " 13   3   photo_2016-12-12_17-25-22.png\n",
      " 14   3   photo_2017-01-14_20-14-58.png\n",
      " 15   3   photo_2017-05-19_00-35-56.png\n",
      " 16   3   photo_2017-07-15_17-05-07.png\n",
      " 17   3   photo_2017-07-23_23-45-38.png\n",
      " 18   3   photo_2017-09-18_12-12-13.png\n",
      " 19   3   photo_2017-09-26_00-32-31.png\n",
      " 20   3   photo_2017-11-17_01-42-09.png\n",
      " 21   3   photo_2017-11-17_01-42-51.png\n",
      " 22   3   photo_2017-11-17_01-43-40.png\n"
     ]
    }
   ],
   "source": [
    "printData(train_labels, train_paths, 23)"
   ]
  },
  {
   "cell_type": "code",
   "execution_count": 180,
   "metadata": {
    "collapsed": true
   },
   "outputs": [],
   "source": [
    "# Cut false positives"
   ]
  },
  {
   "cell_type": "code",
   "execution_count": 181,
   "metadata": {
    "collapsed": true
   },
   "outputs": [],
   "source": [
    "emb_del = np.empty_like(emb_array)"
   ]
  },
  {
   "cell_type": "code",
   "execution_count": 186,
   "metadata": {},
   "outputs": [
    {
     "name": "stdout",
     "output_type": "stream",
     "text": [
      "0 1 1 1 1.41421356236 FN\n",
      "0 2 1 1 1.41421356238 FN\n",
      "0 3 1 1 1.41421356238 FN\n",
      "0 4 1 1 1.41421356235 FN\n",
      "0 5 1 1 1.41421356242 FN\n",
      "0 6 1 1 1.41421356239 FN\n",
      "0 7 1 1 1.41421356234 FN\n",
      "0 8 1 1 1.41421356243 FN\n",
      "0 9 1 1 1.41421356241 FN\n",
      "1 2 1 1 1.41421356234 FN\n",
      "1 3 1 1 1.41421356239 FN\n",
      "1 4 1 1 1.41421356238 FN\n",
      "1 5 1 1 1.41421356239 FN\n",
      "1 6 1 1 1.41421356235 FN\n",
      "1 7 1 1 1.41421356236 FN\n",
      "1 8 1 1 1.41421356239 FN\n",
      "1 9 1 1 1.41421356239 FN\n",
      "2 3 1 1 1.41421356237 FN\n",
      "2 4 1 1 1.41421356238 FN\n",
      "2 5 1 1 1.41421356236 FN\n",
      "2 6 1 1 1.41421356238 FN\n",
      "2 7 1 1 1.41421356234 FN\n",
      "2 8 1 1 1.41421356234 FN\n",
      "2 9 1 1 1.41421356238 FN\n",
      "3 4 1 1 1.41421356242 FN\n",
      "3 5 1 1 1.4142135624 FN\n",
      "3 6 1 1 1.41421356239 FN\n",
      "3 7 1 1 1.41421356234 FN\n",
      "3 8 1 1 1.41421356244 FN\n",
      "3 9 1 1 1.41421356247 FN\n",
      "4 5 1 1 1.41421356242 FN\n",
      "4 6 1 1 1.41421356235 FN\n",
      "4 7 1 1 1.41421356233 FN\n",
      "4 8 1 1 1.41421356239 FN\n",
      "4 9 1 1 1.41421356239 FN\n",
      "5 6 1 1 1.41421356242 FN\n",
      "5 7 1 1 1.41421356236 FN\n",
      "5 8 1 1 1.41421356237 FN\n",
      "5 9 1 1 1.41421356237 FN\n",
      "6 7 1 1 1.4142135623 FN\n",
      "6 8 1 1 1.41421356244 FN\n",
      "6 9 1 1 1.41421356238 FN\n",
      "7 8 1 1 1.41421356242 FN\n",
      "7 9 1 1 1.41421356238 FN\n",
      "8 9 1 1 1.4142135624 FN\n",
      "10 11 3 3 1.4142135624 FN\n",
      "10 12 3 3 1.41421356244 FN\n",
      "10 13 3 3 1.41421356235 FN\n",
      "10 14 3 3 1.41421356226 FN\n",
      "10 15 3 3 1.4142135624 FN\n",
      "10 16 3 3 1.41421356231 FN\n",
      "10 17 3 3 1.41421356231 FN\n",
      "10 18 3 3 1.41421356224 FN\n",
      "10 19 3 3 1.41421356236 FN\n",
      "10 20 3 3 1.41421356232 FN\n",
      "10 21 3 3 1.41421356234 FN\n",
      "10 22 3 3 1.41421356231 FN\n",
      "11 12 3 3 1.41421356236 FN\n",
      "11 13 3 3 1.41421356241 FN\n",
      "11 14 3 3 1.41421356229 FN\n",
      "11 15 3 3 1.4142135624 FN\n",
      "11 16 3 3 1.41421356237 FN\n",
      "11 17 3 3 1.41421356238 FN\n",
      "11 18 3 3 1.41421356234 FN\n",
      "11 19 3 3 1.41421356238 FN\n",
      "11 20 3 3 1.41421356229 FN\n",
      "11 21 3 3 1.41421356244 FN\n",
      "11 22 3 3 1.41421356239 FN\n",
      "12 13 3 3 1.41421356238 FN\n",
      "12 14 3 3 1.4142135623 FN\n",
      "12 15 3 3 1.41421356238 FN\n",
      "12 16 3 3 1.41421356237 FN\n",
      "12 17 3 3 1.41421356235 FN\n",
      "12 18 3 3 1.4142135623 FN\n",
      "12 19 3 3 1.41421356241 FN\n",
      "12 20 3 3 1.41421356231 FN\n",
      "12 21 3 3 1.41421356238 FN\n",
      "12 22 3 3 1.41421356239 FN\n",
      "13 14 3 3 1.41421356234 FN\n",
      "13 15 3 3 1.41421356241 FN\n",
      "13 16 3 3 1.41421356239 FN\n",
      "13 17 3 3 1.41421356238 FN\n",
      "13 18 3 3 1.4142135623 FN\n",
      "13 19 3 3 1.41421356241 FN\n",
      "13 20 3 3 1.41421356233 FN\n",
      "13 21 3 3 1.41421356248 FN\n",
      "13 22 3 3 1.41421356243 FN\n",
      "14 15 3 3 1.41421356229 FN\n",
      "14 16 3 3 1.41421356227 FN\n",
      "14 17 3 3 1.41421356231 FN\n",
      "14 18 3 3 1.4142135623 FN\n",
      "14 19 3 3 1.41421356238 FN\n",
      "14 20 3 3 1.41421356231 FN\n",
      "14 21 3 3 1.41421356238 FN\n",
      "14 22 3 3 1.4142135623 FN\n",
      "15 16 3 3 1.41421356234 FN\n",
      "15 17 3 3 1.41421356227 FN\n",
      "15 18 3 3 1.41421356233 FN\n",
      "15 19 3 3 1.41421356242 FN\n",
      "15 20 3 3 1.41421356231 FN\n",
      "15 21 3 3 1.41421356235 FN\n",
      "15 22 3 3 1.4142135624 FN\n",
      "16 17 3 3 1.4142135623 FN\n",
      "16 18 3 3 1.41421356223 FN\n",
      "16 19 3 3 1.4142135624 FN\n",
      "16 20 3 3 1.41421356228 FN\n",
      "16 21 3 3 1.41421356236 FN\n",
      "16 22 3 3 1.41421356236 FN\n",
      "17 18 3 3 1.41421356233 FN\n",
      "17 19 3 3 1.41421356241 FN\n",
      "17 20 3 3 1.4142135623 FN\n",
      "17 21 3 3 1.41421356231 FN\n",
      "17 22 3 3 1.41421356234 FN\n",
      "18 19 3 3 1.41421356232 FN\n",
      "18 20 3 3 1.41421356229 FN\n",
      "18 21 3 3 1.41421356242 FN\n",
      "18 22 3 3 1.41421356236 FN\n",
      "19 20 3 3 1.41421356236 FN\n",
      "19 21 3 3 1.41421356236 FN\n",
      "19 22 3 3 1.41421356241 FN\n",
      "20 21 3 3 1.41421356238 FN\n",
      "20 22 3 3 1.41421356236 FN\n",
      "21 22 3 3 1.41421356237 FN\n"
     ]
    }
   ],
   "source": [
    "arr = emb_array\n",
    "\n",
    "lng = len(arr)\n",
    "summ = 0\n",
    "threshold = 1.41\n",
    "\n",
    "for i in range(lng):\n",
    "    for j in range(i, lng):\n",
    "        dist = np.linalg.norm(arr[i,:] - arr[j,:])\n",
    "        if (train_labels[i] == train_labels[j]) and (dist > threshold):\n",
    "            print(i,j,train_labels[i],train_labels[j], dist, \"FN\")\n",
    "        elif (train_labels[i] != train_labels[j]) and (dist <= threshold):\n",
    "            print(i,j,train_labels[i],train_labels[j], dist, \"FP\")"
   ]
  },
  {
   "cell_type": "code",
   "execution_count": 19,
   "metadata": {},
   "outputs": [],
   "source": [
    "emb_del = np.delete(emb_array, (10, 11, 13, 19, 22), axis=0)"
   ]
  },
  {
   "cell_type": "code",
   "execution_count": 20,
   "metadata": {},
   "outputs": [],
   "source": [
    "c, w = trainFisherWithNum(emb_del, 10)"
   ]
  },
  {
   "cell_type": "code",
   "execution_count": 21,
   "metadata": {},
   "outputs": [
    {
     "name": "stdout",
     "output_type": "stream",
     "text": [
      "0 -0.0\n",
      "1 -0.0\n",
      "2 0.0\n",
      "3 0.0\n",
      "4 0.0\n",
      "5 -0.0\n",
      "6 0.0\n",
      "7 -0.0\n",
      "8 -0.0\n",
      "9 -0.0\n",
      "10 0.001197\n",
      "11 0.083887\n",
      "12 0.0\n",
      "13 -0.009053\n",
      "14 -0.0\n",
      "15 0.0\n",
      "16 -0.0\n",
      "17 -0.0\n",
      "18 -0.0\n",
      "19 -0.022825\n",
      "20 -0.0\n",
      "21 -0.0\n",
      "22 -0.003497\n"
     ]
    }
   ],
   "source": [
    "for i in range(len(emb_array)):\n",
    "    l = np.around(Fisher(w, c, emb_array[i]), decimals=6)\n",
    "    print(i, l)"
   ]
  },
  {
   "cell_type": "code",
   "execution_count": null,
   "metadata": {
    "collapsed": true
   },
   "outputs": [],
   "source": []
  }
 ],
 "metadata": {
  "kernelspec": {
   "display_name": "Python 3",
   "language": "python",
   "name": "python3"
  },
  "language_info": {
   "codemirror_mode": {
    "name": "ipython",
    "version": 3
   },
   "file_extension": ".py",
   "mimetype": "text/x-python",
   "name": "python",
   "nbconvert_exporter": "python",
   "pygments_lexer": "ipython3",
   "version": "3.6.3"
  }
 },
 "nbformat": 4,
 "nbformat_minor": 2
}
