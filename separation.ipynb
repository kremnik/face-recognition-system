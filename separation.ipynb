{
 "cells": [
  {
   "cell_type": "code",
   "execution_count": 1,
   "metadata": {},
   "outputs": [
    {
     "name": "stderr",
     "output_type": "stream",
     "text": [
      "D:\\Anaconda3\\lib\\site-packages\\h5py\\__init__.py:36: FutureWarning: Conversion of the second argument of issubdtype from `float` to `np.floating` is deprecated. In future, it will be treated as `np.float64 == np.dtype(float).type`.\n",
      "  from ._conv import register_converters as _register_converters\n"
     ]
    }
   ],
   "source": [
    "import os.path\n",
    "import tensorflow as tf\n",
    "import numpy as np\n",
    "import facenet\n",
    "from scipy.spatial import distance\n",
    "from sklearn import metrics\n",
    "import matplotlib.pyplot as plt\n",
    "import matplotlib.lines as lines\n",
    "import matplotlib.patches as mpatches\n",
    "%matplotlib inline\n",
    "\n",
    "plt.rcParams.update({'font.size': 12, 'axes.titlesize': 16, 'axes.labelsize': 16})"
   ]
  },
  {
   "cell_type": "markdown",
   "metadata": {},
   "source": [
    "**Helper functions**"
   ]
  },
  {
   "cell_type": "code",
   "execution_count": 2,
   "metadata": {},
   "outputs": [],
   "source": [
    "def preprocessing(X, num_components = 50):\n",
    "    num_features = X.shape[1]\n",
    "    \n",
    "    # Centering\n",
    "    X = X - np.mean(X, axis=0)\n",
    "    \n",
    "    # Normalization\n",
    "    X = X / X.std(axis=0)\n",
    "\n",
    "    # PCA\n",
    "    cov = np.cov(X.T)\n",
    "    eig_vals, eig_vecs = np.linalg.eig(cov)\n",
    "\n",
    "    for ev in eig_vecs:\n",
    "        np.testing.assert_array_almost_equal(1.0, np.linalg.norm(ev))\n",
    "\n",
    "    # Make a list of (eigenvalue, eigenvector) tuples\n",
    "    eig_pairs = [(np.abs(eig_vals[i]), eig_vecs[:,i]) for i in range(len(eig_vals))]\n",
    "\n",
    "    # Sort the (eigenvalue, eigenvector) tuples from high to low\n",
    "    eig_pairs.sort()\n",
    "    eig_pairs.reverse()\n",
    "\n",
    "    pca_matrix = eig_pairs[0][1].reshape(num_features, 1)\n",
    "\n",
    "    for i in range(1, num_components):\n",
    "        pca_matrix = np.hstack((pca_matrix, eig_pairs[i][1].reshape(num_features, 1)))\n",
    "\n",
    "    X = X.dot(pca_matrix)\n",
    "\n",
    "    # Whitening\n",
    "    X = X / np.sqrt(eig_vals[:num_components])\n",
    "    \n",
    "    return X\n",
    "\n",
    "def buildFisher(emb_array, y):    \n",
    "    emb_del = np.empty_like(emb_array)\n",
    "    np.copyto(emb_del, emb_array)\n",
    "    \n",
    "    emb_array = np.vstack((emb_array, y))\n",
    "    \n",
    "    E = np.linalg.inv(np.cov(emb_del.T))\n",
    "    M = len(emb_array)\n",
    "    D = (y - (1 / (M - 1) * np.sum(emb_del)))\n",
    "    \n",
    "    w = np.dot(E, D)\n",
    "    \n",
    "    return w\n",
    "\n",
    "def distance(w, sample, thr):\n",
    "    return np.dot(w / np.linalg.norm(w), sample / np.linalg.norm(sample)) - thr"
   ]
  },
  {
   "cell_type": "markdown",
   "metadata": {},
   "source": [
    "**Loading feature vectors and labels**"
   ]
  },
  {
   "cell_type": "code",
   "execution_count": 3,
   "metadata": {},
   "outputs": [],
   "source": [
    "emb_array = np.load('./embeddings_inception_resnet_v1.npy')\n",
    "train_labels = np.load('./train_labels.npy')"
   ]
  },
  {
   "cell_type": "markdown",
   "metadata": {},
   "source": [
    "**Preprocessing of feature vectors (Centering -> Normalization -> PCA -> Whitening)**"
   ]
  },
  {
   "cell_type": "code",
   "execution_count": 4,
   "metadata": {},
   "outputs": [],
   "source": [
    "X = preprocessing(emb_array)"
   ]
  },
  {
   "cell_type": "markdown",
   "metadata": {},
   "source": [
    "**Plot of preprocessed feature vectors (2 first features)**"
   ]
  },
  {
   "cell_type": "code",
   "execution_count": 5,
   "metadata": {},
   "outputs": [
    {
     "data": {
      "text/plain": [
       "<matplotlib.legend.Legend at 0x1ba8f632358>"
      ]
     },
     "execution_count": 5,
     "metadata": {},
     "output_type": "execute_result"
    },
    {
     "data": {
      "image/png": "[encoded data removed]",
      "text/plain": [
       "<Figure size 400x400 with 1 Axes>"
      ]
     },
     "metadata": {},
     "output_type": "display_data"
    }
   ],
   "source": [
    "w1 = 0 # index of \"x\" feature\n",
    "w2 = 1 # index of \"y\" feature\n",
    "\n",
    "plt.figure(num=None, figsize=(5, 5), dpi=80, facecolor='w', edgecolor='k')\n",
    "plt.title(\"Whitened data (13,233 images)\")\n",
    "plt.scatter(X[:, w1], X[:, w2], c=\"#4EACC5\", marker=\"s\", s=32)\n",
    "plt.xlabel(\"w1\")\n",
    "plt.ylabel(\"w2\")\n",
    "c1_patch = plt.Line2D(range(1), range(1), color=\"white\", marker=\"s\", markersize=16, markerfacecolor=\"#4EACC5\", label=\"all images\")\n",
    "plt.legend(handles=[c1_patch])"
   ]
  },
  {
   "cell_type": "markdown",
   "metadata": {},
   "source": [
    "**Fisher's discriminant**"
   ]
  },
  {
   "cell_type": "markdown",
   "metadata": {},
   "source": [
    "Class label (class name)."
   ]
  },
  {
   "cell_type": "code",
   "execution_count": 6,
   "metadata": {},
   "outputs": [],
   "source": [
    "class_label = 5"
   ]
  },
  {
   "cell_type": "markdown",
   "metadata": {},
   "source": [
    "For example we take the person with class **class_label** (in this example: 5): feature vectors with indexes 5, 6, 7 and 8 corresponds to this class."
   ]
  },
  {
   "cell_type": "code",
   "execution_count": 7,
   "metadata": {},
   "outputs": [],
   "source": [
    "indexes = np.where(train_labels == class_label)[0]"
   ]
  },
  {
   "cell_type": "code",
   "execution_count": 8,
   "metadata": {},
   "outputs": [],
   "source": [
    "# Removing elements of class 5 from the feature matrix\n",
    "X_del = np.delete(X, indexes, axis=0)\n",
    "\n",
    "# Build Fisher's discriminant with one element of class 5 (with index 6, for example)\n",
    "w = buildFisher(X_del, X[indexes[0]])"
   ]
  },
  {
   "cell_type": "markdown",
   "metadata": {},
   "source": [
    "Now we need to set a threshold and calculate distances between vector w and every vector from the dataset (feature matrix). If (distance - thr) > 0, then it is the feature vector from the same class."
   ]
  },
  {
   "cell_type": "code",
   "execution_count": 9,
   "metadata": {},
   "outputs": [
    {
     "name": "stdout",
     "output_type": "stream",
     "text": [
      "8 -0.11839116300269437 (class: 5)\n"
     ]
    }
   ],
   "source": [
    "lng = len(X)\n",
    "thr = 0.7 # Threshold (experimental)\n",
    "answers = []\n",
    "\n",
    "for i in range(lng):\n",
    "    l = distance(w, X[i], thr)\n",
    "    answers.append(l)\n",
    "    \n",
    "    if l > 0 and train_labels[i] == class_label:\n",
    "        []\n",
    "    elif l <= 0 and train_labels[i] != class_label:\n",
    "        []\n",
    "    else:\n",
    "        print(i, l, \"(class: %d)\" % train_labels[i]) # False Positive or False Negative"
   ]
  },
  {
   "cell_type": "markdown",
   "metadata": {},
   "source": [
    "**Calculating metrics**"
   ]
  },
  {
   "cell_type": "code",
   "execution_count": 10,
   "metadata": {},
   "outputs": [
    {
     "name": "stdout",
     "output_type": "stream",
     "text": [
      "Elements:              13233\n",
      "False Negatives:       1\n",
      "False Negatives Rate:  7.556865412227008e-05\n",
      "Threshold:  0.7\n",
      "Precision:  1.0\n",
      "Recall:     0.75\n"
     ]
    },
    {
     "data": {
      "text/plain": [
       "<matplotlib.legend.Legend at 0x1ba8f6107b8>"
      ]
     },
     "execution_count": 10,
     "metadata": {},
     "output_type": "execute_result"
    },
    {
     "data": {
      "image/png": "[encoded data removed]",
      "text/plain": [
       "<Figure size 480x320 with 1 Axes>"
      ]
     },
     "metadata": {},
     "output_type": "display_data"
    }
   ],
   "source": [
    "answers = np.asarray(answers)\n",
    "true_labels = np.array(train_labels == class_label, dtype=int)\n",
    "prediction = np.array(answers > 0, dtype=int)\n",
    "\n",
    "# False Negatives (FN) and False Negatives Rate (FNR)\n",
    "fn = len(prediction[prediction != true_labels])\n",
    "fnr = fn / len(true_labels)\n",
    "\n",
    "print(\"Elements:             \", len(prediction))\n",
    "print(\"False Negatives:      \", fn)\n",
    "print(\"False Negatives Rate: \", fnr)\n",
    "\n",
    "print(\"Threshold: \", thr)\n",
    "print(\"Precision: \", metrics.precision_score(true_labels, prediction))\n",
    "print(\"Recall:    \", metrics.recall_score(true_labels, prediction))\n",
    "\n",
    "# Histogram\n",
    "plt.figure(num=None, figsize=(6, 4), dpi=80, facecolor='w', edgecolor='k')\n",
    "# limit = len(answers)\n",
    "limit = 40 # just for better view\n",
    "plt.hist(answers[:limit][true_labels[:limit] == 0], histtype=\"bar\", color=\"#4EACC5\")\n",
    "plt.hist(answers[:limit][true_labels[:limit] == 1], histtype=\"bar\", color='orange')\n",
    "plt.ylabel(\"# of elements\")\n",
    "plt.xlabel(\"distance\")\n",
    "plt.title(\"Elements with label \" + str(class_label))\n",
    "c1_patch = plt.Line2D(range(1), range(1), color=\"white\", marker=\"s\", markersize=16, markerfacecolor=\"#4EACC5\", label=\"negatives\")\n",
    "c2_patch = plt.Line2D(range(1), range(1), color=\"white\", marker=\"s\", markersize=16, markerfacecolor=\"orange\", label=\"positives\")\n",
    "plt.legend(handles=[c1_patch, c2_patch])"
   ]
  }
 ],
 "metadata": {
  "kernelspec": {
   "display_name": "Python 3",
   "language": "python",
   "name": "python3"
  },
  "language_info": {
   "codemirror_mode": {
    "name": "ipython",
    "version": 3
   },
   "file_extension": ".py",
   "mimetype": "text/x-python",
   "name": "python",
   "nbconvert_exporter": "python",
   "pygments_lexer": "ipython3",
   "version": "3.6.5"
  }
 },
 "nbformat": 4,
 "nbformat_minor": 2
}
