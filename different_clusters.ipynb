{
 "cells": [
  {
   "cell_type": "code",
   "execution_count": 1,
   "metadata": {
    "collapsed": true
   },
   "outputs": [],
   "source": [
    "import os.path\n",
    "import math\n",
    "import re\n",
    "import tensorflow as tf\n",
    "import numpy as np\n",
    "import facenet\n",
    "from scipy.spatial import distance\n",
    "from sklearn.decomposition import PCA\n",
    "from sklearn.manifold import TSNE\n",
    "from sklearn.cluster import KMeans, DBSCAN, MeanShift, estimate_bandwidth, Birch\n",
    "from sklearn import metrics\n",
    "import matplotlib.pyplot as plt\n",
    "import matplotlib.lines as lines\n",
    "import matplotlib.patches as mpatches\n",
    "import matplotlib.cm as cm\n",
    "import time\n",
    "%matplotlib inline"
   ]
  },
  {
   "cell_type": "code",
   "execution_count": 131,
   "metadata": {
    "collapsed": true
   },
   "outputs": [],
   "source": [
    "def get_model_filenames(model_dir):\n",
    "    files = os.listdir(model_dir)\n",
    "    meta_files = [s for s in files if s.endswith('.meta')]\n",
    "    if len(meta_files)==0:\n",
    "        raise ValueError('No meta file found in the model directory (%s)' % model_dir)\n",
    "    elif len(meta_files)>1:\n",
    "        raise ValueError('There should not be more than one meta file in the model directory (%s)' % model_dir)\n",
    "    meta_file = meta_files[0]\n",
    "    meta_files = [s for s in files if '.ckpt' in s]\n",
    "    max_step = -1\n",
    "    for f in files:\n",
    "        step_str = re.match(r'(^model-[\\w\\- ]+.ckpt-(\\d+))', f)\n",
    "        if step_str is not None and len(step_str.groups())>=2:\n",
    "            step = int(step_str.groups()[1])\n",
    "            if step > max_step:\n",
    "                max_step = step\n",
    "                ckpt_file = step_str.groups()[0]\n",
    "    return meta_file, ckpt_file\n",
    "\n",
    "def load_model(model, sess):\n",
    "    model_exp = os.path.expanduser(model)\n",
    "    print('Model directory: %s' % model_exp)\n",
    "    meta_file, ckpt_file = get_model_filenames(model_exp)\n",
    "\n",
    "    print('Metagraph file: %s' % meta_file)\n",
    "    print('Checkpoint file: %s' % ckpt_file)\n",
    "\n",
    "    saver = tf.train.import_meta_graph(os.path.join(model_exp, meta_file))\n",
    "    saver.restore(sess, os.path.join(model_exp, ckpt_file))\n",
    "    \n",
    "def forward(paths, batch_size):\n",
    "    nrof_images = len(paths)\n",
    "    nrof_batches = int(math.ceil(1.0*nrof_images / batch_size))\n",
    "    emb_array = np.zeros((nrof_images, embedding_size))\n",
    "\n",
    "    for i in range(nrof_batches):    \n",
    "        start_index = i*batch_size\n",
    "        end_index = min((i+1)*batch_size, nrof_images)\n",
    "        paths_batch = paths[start_index:end_index]\n",
    "        images = facenet.load_data(paths_batch, False, False, image_size)\n",
    "        feed_dict = { images_placeholder:images, phase_train_placeholder:False }\n",
    "        emb_array[start_index:end_index,:] = sess.run(embeddings, feed_dict=feed_dict)    \n",
    "        print(\"batch number:\", i)\n",
    "    print(\"Complete\")\n",
    "    \n",
    "    return emb_array\n",
    "\n",
    "def printDistance(emb_array, label_list, end=10):\n",
    "    threshold = 1.0\n",
    "    lng = len(emb_array[:end])\n",
    "    print('Distance matrix')\n",
    "    print('    ', end='')\n",
    "    for i in range(lng):\n",
    "        print('    %3d     ' % i, end='')\n",
    "    print('')\n",
    "    for i in range(lng):\n",
    "        print('%1d  ' % i, end='')\n",
    "        for j in range(lng):\n",
    "            dist = np.linalg.norm(emb_array[i,:] - emb_array[j,:])\n",
    "            print('  %1.4f' % dist, end='')\n",
    "            if (label_list[i] == label_list[j]) and (dist <= threshold):\n",
    "                print(\"(TP)\", end='')\n",
    "            elif (label_list[i] != label_list[j]) and (dist > threshold):\n",
    "                print(\"(TN)\", end='')\n",
    "            elif (label_list[i] == label_list[j]) and (dist > threshold):\n",
    "                print(\"\\033[93m(FN)\\033[0m\", end='')\n",
    "            elif (label_list[i] != label_list[j]) and (dist <= threshold):\n",
    "                print(\"\\033[93m(FP)\\033[0m\", end='')\n",
    "        print('')\n",
    "        \n",
    "def printData(labels, paths, number):\n",
    "    for i in range(number):\n",
    "        if i > 0 and labels[i] != labels[i-1]:\n",
    "            print('')\n",
    "        print('{0:3d} {1:3d}   {2:s}'.format(i, labels[i], paths[i].split(\"\\\\\")[1]))\n",
    "        # print('{0:3d}   {1:s}'.format(labels[i], paths[i].split(\"\\\\\")[1]))\n",
    "        \n",
    "def PCAtransform(emb_array, n_components = 10):\n",
    "    pca = PCA(n_components, whiten=True)\n",
    "    pca.fit(emb_array)\n",
    "    return pca.transform(emb_array), pca\n",
    "\n",
    "def splitTrainTest(data_set, percent_train):\n",
    "    paths, labels_list = facenet.get_image_paths_and_labels(data_set)\n",
    "    \n",
    "    lng = len(paths)\n",
    "    lng_train = int(lng * percent_train / 100);\n",
    "    lng_test = lng - lng_train\n",
    "    \n",
    "    train_paths = paths[0:lng_train]\n",
    "    test_paths = paths[lng_train:]\n",
    "    \n",
    "    train_labels = labels_list[0:lng_train]\n",
    "    test_labels = labels_list[lng_train:]\n",
    "    \n",
    "    return train_paths, train_labels, test_paths, test_labels\n",
    "\n",
    "def preprocessing(X, num_components = 50):\n",
    "    num_features = X.shape[1]\n",
    "    \n",
    "    X = X - np.mean(X, axis=0) # centering\n",
    "    X = X / X.std(axis=0) # standardization\n",
    "\n",
    "    # PCA\n",
    "    cov = np.cov(X.T)\n",
    "    eig_vals, eig_vecs = np.linalg.eig(cov)\n",
    "\n",
    "    for ev in eig_vecs:\n",
    "        np.testing.assert_array_almost_equal(1.0, np.linalg.norm(ev))\n",
    "\n",
    "    # Make a list of (eigenvalue, eigenvector) tuples\n",
    "    eig_pairs = [(np.abs(eig_vals[i]), eig_vecs[:,i]) for i in range(len(eig_vals))]\n",
    "\n",
    "    # Sort the (eigenvalue, eigenvector) tuples from high to low\n",
    "    eig_pairs.sort()\n",
    "    eig_pairs.reverse()\n",
    "\n",
    "    pca_matrix = eig_pairs[0][1].reshape(num_features, 1)\n",
    "\n",
    "    for i in range(1, num_components):\n",
    "        pca_matrix = np.hstack((pca_matrix,\n",
    "                                eig_pairs[i][1].reshape(num_features, 1)))\n",
    "\n",
    "    X = X.dot(pca_matrix)\n",
    "\n",
    "    # Whitening\n",
    "    X = X / np.sqrt(eig_vals[:num_components])\n",
    "    \n",
    "    return X\n",
    "    \n",
    "\n",
    "def trainFisher(emb_array, y):    \n",
    "    emb_del = np.empty_like(emb_array)\n",
    "    np.copyto(emb_del, emb_array)\n",
    "    \n",
    "    emb_array = np.vstack((emb_array, y))\n",
    "    \n",
    "    E = np.linalg.inv(np.cov(emb_del.T))\n",
    "    M = len(emb_array)\n",
    "    D = (y - (1 / (M - 1) * np.sum(emb_del)))\n",
    "    \n",
    "    w = np.dot(E, D)\n",
    "    \n",
    "    return w\n",
    "\n",
    "def distance(w, sample, thr):\n",
    "    return np.dot(w / np.linalg.norm(w), sample / np.linalg.norm(sample)) - thr"
   ]
  },
  {
   "cell_type": "code",
   "execution_count": 3,
   "metadata": {},
   "outputs": [
    {
     "name": "stdout",
     "output_type": "stream",
     "text": [
      "Model directory: 20170511-185253\n",
      "Metagraph file: model-20170511-185253.meta\n",
      "Checkpoint file: model-20170511-185253.ckpt-80000\n",
      "WARNING:tensorflow:The saved meta_graph is possibly from an older release:\n",
      "'model_variables' collection should be of type 'byte_list', but instead is of type 'node_list'.\n",
      "INFO:tensorflow:Restoring parameters from 20170511-185253\\model-20170511-185253.ckpt-80000\n"
     ]
    }
   ],
   "source": [
    "sess = tf.Session()\n",
    "data_set = facenet.get_dataset(\"../../datasets/lfw/lfw_mtcnnpy_160/\")\n",
    "train_paths, train_labels, test_paths, test_labels = splitTrainTest(data_set, 100)\n",
    "load_model(\"20170511-185253\", sess)\n",
    "\n",
    "images_placeholder = tf.get_default_graph().get_tensor_by_name(\"input:0\")\n",
    "embeddings = tf.get_default_graph().get_tensor_by_name(\"embeddings:0\")\n",
    "phase_train_placeholder = tf.get_default_graph().get_tensor_by_name(\"phase_train:0\")\n",
    "\n",
    "image_size = 160\n",
    "embedding_size = embeddings.get_shape()[1]"
   ]
  },
  {
   "cell_type": "code",
   "execution_count": 13,
   "metadata": {
    "collapsed": true
   },
   "outputs": [],
   "source": [
    "emb_array = np.load('embeddings.npy')\n",
    "train_labels = np.load('train_labels.npy')"
   ]
  },
  {
   "cell_type": "code",
   "execution_count": 82,
   "metadata": {},
   "outputs": [
    {
     "name": "stdout",
     "output_type": "stream",
     "text": [
      "Everything is ok!\n"
     ]
    }
   ],
   "source": [
    "t = emb_array\n",
    "\n",
    "# Centering\n",
    "tc = t - np.mean(t, axis=0)\n",
    "\n",
    "# Standartization\n",
    "ts = tc / tc.std(axis=0)\n",
    "\n",
    "# PCA\n",
    "X = ts\n",
    "\n",
    "num_components = 50\n",
    "\n",
    "cov = np.cov(X.T)\n",
    "eig_vals, eig_vecs = np.linalg.eig(cov)\n",
    "\n",
    "for ev in eig_vecs:\n",
    "    np.testing.assert_array_almost_equal(1.0, np.linalg.norm(ev))\n",
    "print('Everything is ok!')\n",
    "\n",
    "# Make a list of (eigenvalue, eigenvector) tuples\n",
    "eig_pairs = [(np.abs(eig_vals[i]), eig_vecs[:,i]) for i in range(len(eig_vals))]\n",
    "\n",
    "# Sort the (eigenvalue, eigenvector) tuples from high to low\n",
    "eig_pairs.sort()\n",
    "eig_pairs.reverse()\n",
    "\n",
    "pca_matrix = eig_pairs[0][1].reshape(128, 1)\n",
    "\n",
    "for i in range(1, num_components):\n",
    "    pca_matrix = np.hstack((pca_matrix,\n",
    "                            eig_pairs[i][1].reshape(128, 1)))\n",
    "\n",
    "X_pca = X.dot(pca_matrix)\n",
    "\n",
    "# Whitening\n",
    "X_whit = X_pca / np.sqrt(eig_vals[:num_components])"
   ]
  },
  {
   "cell_type": "markdown",
   "metadata": {},
   "source": [
    "**Fisher's discriminant**"
   ]
  },
  {
   "cell_type": "code",
   "execution_count": 132,
   "metadata": {},
   "outputs": [
    {
     "name": "stdout",
     "output_type": "stream",
     "text": [
      "Precision:  1.0\n",
      "Recall:     0.75\n"
     ]
    }
   ],
   "source": [
    "bush_label = 5\n",
    "idx, = np.where(train_labels == bush_label)\n",
    "\n",
    "X_work = np.delete(X_whit, idx, axis=0)\n",
    "\n",
    "w = trainFisher(X_work, X_whit[idx[0]])\n",
    "\n",
    "lng = len(X_whit)\n",
    "summ = 0\n",
    "thr = 0.7\n",
    "answers = []\n",
    "\n",
    "for i in range(lng):\n",
    "    l = distance(w, X_whit[i], thr)\n",
    "    answers.append(l)\n",
    "    \n",
    "answers = np.asarray(answers)\n",
    "true_labels = np.array(train_labels == bush_label, dtype=int)\n",
    "prediction = np.array(answers > 0, dtype=int)\n",
    "\n",
    "print(\"Precision: \", metrics.precision_score(true_labels, prediction))\n",
    "print(\"Recall:    \", metrics.recall_score(true_labels, prediction))"
   ]
  },
  {
   "cell_type": "code",
   "execution_count": 104,
   "metadata": {},
   "outputs": [
    {
     "data": {
      "image/png": "[encoded data removed]",
      "text/plain": [
       "<matplotlib.figure.Figure at 0x6f892ae1d0>"
      ]
     },
     "metadata": {},
     "output_type": "display_data"
    },
    {
     "name": "stdout",
     "output_type": "stream",
     "text": [
      "0.182211794374\n"
     ]
    }
   ],
   "source": [
    "ind = 5\n",
    "\n",
    "v1 = w / np.linalg.norm(w)\n",
    "v2 = X_whit[ind]/np.linalg.norm(X_whit[ind])\n",
    "\n",
    "fig, ((ax1)) = plt.subplots(nrows=1, ncols=1, figsize=(10,10))\n",
    "\n",
    "ax1.quiver(0, 0, [v1[0], v2[0]], [v1[1], v2[1]], angles='xy', scale_units='xy', scale=1, color=[\"red\", \"green\"])\n",
    "ax1.set_xlim([-2, 2])\n",
    "ax1.set_ylim([-2, 2])\n",
    "\n",
    "cr = plt.Circle((0, 0), 1, color='blue', fill=False)\n",
    "ax1.add_artist(cr)\n",
    "\n",
    "plt.show()\n",
    "\n",
    "print(np.dot(v1, v2))"
   ]
  },
  {
   "cell_type": "markdown",
   "metadata": {},
   "source": [
    "**FN and FP**"
   ]
  },
  {
   "cell_type": "code",
   "execution_count": 105,
   "metadata": {},
   "outputs": [
    {
     "name": "stdout",
     "output_type": "stream",
     "text": [
      "Elements:              530\n",
      "False Negatives:       449\n",
      "False Negatives Rate:  0.8471698113207548\n",
      "\n",
      "Elements:              12703\n",
      "False Positives:       0\n",
      "False Positives Rate:  0.0\n"
     ]
    }
   ],
   "source": [
    "fn = len(prediction[idx][prediction[idx] != true_labels[idx]])\n",
    "fnr = fn / len(true_labels[idx])\n",
    "\n",
    "print(\"Elements:             \", len(prediction[idx]))\n",
    "print(\"False Negatives:      \", fn)\n",
    "print(\"False Negatives Rate: \", fnr)\n",
    "print(\"\")\n",
    "\n",
    "idx2, = np.where(train_labels != bush_label)\n",
    "fp = len(prediction[idx2][prediction[idx2] != true_labels[idx2]])\n",
    "fpr = fp / len(true_labels[idx2])\n",
    "\n",
    "print(\"Elements:             \", len(prediction[idx2]))\n",
    "print(\"False Positives:      \", fp)\n",
    "print(\"False Positives Rate: \", fpr)"
   ]
  },
  {
   "cell_type": "markdown",
   "metadata": {},
   "source": [
    "**Plots**"
   ]
  },
  {
   "cell_type": "code",
   "execution_count": 106,
   "metadata": {},
   "outputs": [
    {
     "data": {
      "text/plain": [
       "(array([   4.,   17.,   37.,   71.,   95.,  146.,  114.,   39.,    6.,    1.]),\n",
       " array([-0.4304834 , -0.36526596, -0.30004853, -0.23483109, -0.16961366,\n",
       "        -0.10439622, -0.03917879,  0.02603865,  0.09125608,  0.15647352,\n",
       "         0.22169095]),\n",
       " <a list of 10 Patch objects>)"
      ]
     },
     "execution_count": 106,
     "metadata": {},
     "output_type": "execute_result"
    },
    {
     "data": {
      "image/png": "[encoded data removed]",
      "text/plain": [
       "<matplotlib.figure.Figure at 0x6f89adc978>"
      ]
     },
     "metadata": {},
     "output_type": "display_data"
    }
   ],
   "source": [
    "plt.hist(answers[true_labels == 0], histtype=\"bar\")\n",
    "plt.hist(answers[true_labels == 1], histtype=\"bar\", color='orange')"
   ]
  },
  {
   "cell_type": "markdown",
   "metadata": {},
   "source": [
    "**Clusters**"
   ]
  },
  {
   "cell_type": "code",
   "execution_count": 216,
   "metadata": {},
   "outputs": [
    {
     "name": "stdout",
     "output_type": "stream",
     "text": [
      "Precision:  0.0\n",
      "Recall:     0.0\n"
     ]
    },
    {
     "name": "stderr",
     "output_type": "stream",
     "text": [
      "C:\\Users\\alex\\Anaconda3\\lib\\site-packages\\sklearn\\metrics\\classification.py:1135: UndefinedMetricWarning: Precision is ill-defined and being set to 0.0 due to no predicted samples.\n",
      "  'precision', 'predicted', average, warn_for)\n"
     ]
    }
   ],
   "source": [
    "bush_label = 1871\n",
    "idx, = np.where(train_labels == bush_label)\n",
    "\n",
    "X_work = np.delete(X_whit, idx[200:500], axis=0)\n",
    "labels_work = np.delete(train_labels, idx[200:500], axis=0)\n",
    "\n",
    "y = X_whit[idx[0]]\n",
    "    \n",
    "E = np.linalg.inv(np.cov(X_work.T))\n",
    "\n",
    "mask = (labels_work == 1871)\n",
    "\n",
    "X_mask = X_work[mask]\n",
    "\n",
    "X_mask = np.vstack((X_mask, y))\n",
    "X_mask = preprocessing(X_mask, num_components = 50)\n",
    "y = X_mask[-1, :]\n",
    "X_mask = np.delete(X_mask, -1, axis=0)\n",
    "\n",
    "D = y\n",
    "w = np.dot(E, y)\n",
    "\n",
    "labels_mask = labels_work[mask]\n",
    "\n",
    "lng = len(X_mask)\n",
    "summ = 0\n",
    "thr = 0.4\n",
    "answers = []\n",
    "\n",
    "#for i in range(lng):\n",
    "#    l = distance(w, X_mask[i], thr)\n",
    "#    answers.append(l)\n",
    "\n",
    "test = X_whit[200:500]\n",
    "    \n",
    "for i in range(len(test)):\n",
    "    l = distance(w, test[i], thr) # test НЕ НОРМИРОВАН\n",
    "    answers.append(l)    \n",
    "    \n",
    "answers = np.asarray(answers)\n",
    "#true_labels = np.array(labels_mask == bush_label, dtype=int)\n",
    "true_labels = np.ones(len(test))\n",
    "prediction = np.array(answers > 0, dtype=int)\n",
    "\n",
    "print(\"Precision: \", metrics.precision_score(true_labels, prediction))\n",
    "print(\"Recall:    \", metrics.recall_score(true_labels, prediction))"
   ]
  },
  {
   "cell_type": "code",
   "execution_count": 223,
   "metadata": {},
   "outputs": [
    {
     "data": {
      "text/plain": [
       "array([-0.34079219, -0.43167579, -0.35123705, -0.31275217, -0.33008049,\n",
       "       -0.3300453 , -0.65427374, -0.41526096, -0.39191348, -0.59516249,\n",
       "       -0.5584353 , -0.64184476, -0.5227396 , -0.53483587, -0.53852558,\n",
       "       -0.29938437, -0.41432677, -0.44152843, -0.30719019, -0.56230214,\n",
       "       -0.59381035, -0.47458193, -0.45200938, -0.34767803, -0.67159317,\n",
       "       -0.45558452, -0.51542714, -0.29519577, -0.40456837, -0.47094966,\n",
       "       -0.45431584, -0.40252618, -0.45076818, -0.38334083, -0.52946354,\n",
       "       -0.56243732, -0.50407217, -0.51106765, -0.46012945, -0.33317484,\n",
       "       -0.46007534, -0.32465138, -0.52154446, -0.41770283, -0.43775499,\n",
       "       -0.53184489, -0.62435654, -0.36668265, -0.34762595, -0.45730456,\n",
       "       -0.48193159, -0.41836785, -0.38354576, -0.4913656 , -0.40012992,\n",
       "       -0.51868713, -0.51536222, -0.23349081, -0.5089508 , -0.47597169,\n",
       "       -0.51572047, -0.58956006, -0.37282521, -0.51932831, -0.44096751,\n",
       "       -0.42920078, -0.43236699, -0.61475432, -0.51998997, -0.4327085 ,\n",
       "       -0.46795374, -0.52101687, -0.41752267, -0.38453688, -0.48320674,\n",
       "       -0.54304593, -0.54912013, -0.49896173, -0.59361245, -0.47527698,\n",
       "       -0.43687638, -0.42728958, -0.56805204, -0.18240618, -0.3948995 ,\n",
       "       -0.36479871, -0.32872085, -0.32005117, -0.49576304, -0.46776903,\n",
       "       -0.31465833, -0.45271796, -0.28669885, -0.3276034 , -0.49912863,\n",
       "       -0.64044394, -0.23138927, -0.64688413, -0.10984303, -0.24125314,\n",
       "       -0.45356938, -0.35396559, -0.34014578, -0.48466274, -0.28396246,\n",
       "       -0.47388942, -0.22394059, -0.42900405, -0.52292745, -0.37020972,\n",
       "       -0.45315741, -0.33861675, -0.32673652, -0.42844387, -0.46882716,\n",
       "       -0.56087629, -0.53805758, -0.27759479, -0.4905956 , -0.24569192,\n",
       "       -0.51402103, -0.50917569, -0.39871769, -0.51608397, -0.38616634,\n",
       "       -0.21361801, -0.44095637, -0.37023919, -0.41118003, -0.35864947,\n",
       "       -0.37763151, -0.14128509, -0.423172  , -0.53724126, -0.45268774,\n",
       "       -0.25274962, -0.46478156, -0.23371049, -0.27540462, -0.47582994,\n",
       "       -0.37685842, -0.52346101, -0.4409162 , -0.68975912, -0.25726707,\n",
       "       -0.28053628, -0.29299591, -0.43661459, -0.48416155, -0.21132885,\n",
       "       -0.32742201, -0.31357581, -0.23001731, -0.33822146, -0.31904536,\n",
       "       -0.32172758, -0.22549726, -0.39818627, -0.39590184, -0.35104935,\n",
       "       -0.68081671, -0.54090018, -0.39258912, -0.48014133, -0.54164956,\n",
       "       -0.39783376, -0.33449787, -0.28765836, -0.46523535, -0.32807822,\n",
       "       -0.36515193, -0.24461416, -0.3091865 , -0.17381602, -0.23171151,\n",
       "       -0.34639115, -0.51178166, -0.35762191, -0.40762984, -0.59372819,\n",
       "       -0.51793834, -0.28745478, -0.2840552 , -0.32756358, -0.31683307,\n",
       "       -0.46682573, -0.52102819, -0.51732407, -0.30769098, -0.33397163,\n",
       "       -0.3558968 , -0.48716869, -0.21189118, -0.26959924, -0.23912593,\n",
       "       -0.23619349, -0.1397773 , -0.32934473, -0.39798463, -0.5177117 ,\n",
       "       -0.33007502, -0.49145932, -0.37806397, -0.2773674 , -0.47481858,\n",
       "       -0.48094418, -0.34402961, -0.37329061, -0.352865  , -0.42078553,\n",
       "       -0.60153043, -0.19201406, -0.43756739, -0.23362513, -0.21004392,\n",
       "       -0.34265675, -0.35740498, -0.35451554, -0.45807287, -0.43153279,\n",
       "       -0.44621636, -0.35819961, -0.35924688, -0.37590293, -0.56629684,\n",
       "       -0.3730467 , -0.25142092, -0.39568524, -0.37354466, -0.41065386,\n",
       "       -0.37360514, -0.46818541, -0.38049083, -0.33309393, -0.41355993,\n",
       "       -0.28540299, -0.3458489 , -0.38065307, -0.34102868, -0.4255911 ,\n",
       "       -0.48308355, -0.3949869 , -0.28880342, -0.2047938 , -0.39026163,\n",
       "       -0.31694192, -0.31202849, -0.3383558 , -0.27997864, -0.3856642 ,\n",
       "       -0.44434769, -0.44038644, -0.31934276, -0.2415159 , -0.56845852,\n",
       "       -0.45389555, -0.36826572, -0.42274185, -0.40172055, -0.37559795,\n",
       "       -0.37768396, -0.22831452, -0.46295759, -0.30325064, -0.29757616,\n",
       "       -0.35375338, -0.41378497, -0.4646095 , -0.353602  , -0.34812472,\n",
       "       -0.4899289 , -0.45860745, -0.44335748, -0.55573729, -0.4745618 ,\n",
       "       -0.40821036, -0.52682898, -0.39645747, -0.41770224, -0.42120224,\n",
       "       -0.29737552, -0.41908085, -0.34279261, -0.40600273, -0.37789145,\n",
       "       -0.3222624 , -0.38039472, -0.29908649, -0.13932724, -0.26698114,\n",
       "       -0.28467057, -0.35716881, -0.34290999, -0.36428109, -0.3976682 ,\n",
       "       -0.58139088, -0.1652985 , -0.32571465, -0.4703258 , -0.26630129])"
      ]
     },
     "execution_count": 223,
     "metadata": {},
     "output_type": "execute_result"
    }
   ],
   "source": [
    "answers"
   ]
  }
 ],
 "metadata": {
  "kernelspec": {
   "display_name": "Python 3",
   "language": "python",
   "name": "python3"
  },
  "language_info": {
   "codemirror_mode": {
    "name": "ipython",
    "version": 3
   },
   "file_extension": ".py",
   "mimetype": "text/x-python",
   "name": "python",
   "nbconvert_exporter": "python",
   "pygments_lexer": "ipython3",
   "version": "3.6.3"
  }
 },
 "nbformat": 4,
 "nbformat_minor": 2
}
