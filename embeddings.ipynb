{
 "cells": [
  {
   "cell_type": "code",
   "execution_count": 1,
   "metadata": {
    "collapsed": true
   },
   "outputs": [],
   "source": [
    "import os.path\n",
    "import math\n",
    "import re\n",
    "import tensorflow as tf\n",
    "import numpy as np\n",
    "import facenet\n",
    "from sklearn.decomposition import PCA\n",
    "import matplotlib.pyplot as plt\n",
    "%matplotlib inline"
   ]
  },
  {
   "cell_type": "code",
   "execution_count": 2,
   "metadata": {
    "collapsed": true
   },
   "outputs": [],
   "source": [
    "def get_model_filenames(model_dir):\n",
    "    files = os.listdir(model_dir)\n",
    "    meta_files = [s for s in files if s.endswith('.meta')]\n",
    "    if len(meta_files)==0:\n",
    "        raise ValueError('No meta file found in the model directory (%s)' % model_dir)\n",
    "    elif len(meta_files)>1:\n",
    "        raise ValueError('There should not be more than one meta file in the model directory (%s)' % model_dir)\n",
    "    meta_file = meta_files[0]\n",
    "    meta_files = [s for s in files if '.ckpt' in s]\n",
    "    max_step = -1\n",
    "    for f in files:\n",
    "        step_str = re.match(r'(^model-[\\w\\- ]+.ckpt-(\\d+))', f)\n",
    "        if step_str is not None and len(step_str.groups())>=2:\n",
    "            step = int(step_str.groups()[1])\n",
    "            if step > max_step:\n",
    "                max_step = step\n",
    "                ckpt_file = step_str.groups()[0]\n",
    "    return meta_file, ckpt_file\n",
    "\n",
    "def load_model(model, sess):\n",
    "    model_exp = os.path.expanduser(model)\n",
    "    print('Model directory: %s' % model_exp)\n",
    "    meta_file, ckpt_file = get_model_filenames(model_exp)\n",
    "\n",
    "    print('Metagraph file: %s' % meta_file)\n",
    "    print('Checkpoint file: %s' % ckpt_file)\n",
    "\n",
    "    saver = tf.train.import_meta_graph(os.path.join(model_exp, meta_file))\n",
    "    saver.restore(sess, os.path.join(model_exp, ckpt_file))"
   ]
  },
  {
   "cell_type": "code",
   "execution_count": 3,
   "metadata": {
    "collapsed": true
   },
   "outputs": [],
   "source": [
    "def forward(paths, batch_size):\n",
    "    nrof_images = len(paths)\n",
    "    nrof_batches = int(math.ceil(1.0*nrof_images / batch_size))\n",
    "    emb_array = np.zeros((nrof_images, embedding_size))\n",
    "\n",
    "    for i in range(nrof_batches):    \n",
    "        start_index = i*batch_size\n",
    "        end_index = min((i+1)*batch_size, nrof_images)\n",
    "        paths_batch = paths[start_index:end_index]\n",
    "        images = facenet.load_data(paths_batch, False, False, image_size)\n",
    "        feed_dict = { images_placeholder:images, phase_train_placeholder:False }\n",
    "        emb_array[start_index:end_index,:] = sess.run(embeddings, feed_dict=feed_dict)    \n",
    "        print(\"batch number:\", i)\n",
    "    print(\"Complete\")\n",
    "    \n",
    "    return emb_array\n",
    "\n",
    "def printDistance(emb_array, label_list, end=10):\n",
    "    threshold = 1.0\n",
    "    lng = len(emb_array[:end])\n",
    "    print('Distance matrix')\n",
    "    print('    ', end='')\n",
    "    for i in range(lng):\n",
    "        print('    %3d     ' % i, end='')\n",
    "    print('')\n",
    "    for i in range(lng):\n",
    "        print('%1d  ' % i, end='')\n",
    "        for j in range(lng):\n",
    "            dist = np.linalg.norm(emb_array[i,:] - emb_array[j,:])\n",
    "            print('  %1.4f' % dist, end='')\n",
    "            if (label_list[i] == label_list[j]) and (dist <= threshold):\n",
    "                print(\"(TP)\", end='')\n",
    "            elif (label_list[i] != label_list[j]) and (dist > threshold):\n",
    "                print(\"(TN)\", end='')\n",
    "            elif (label_list[i] == label_list[j]) and (dist > threshold):\n",
    "                print(\"\\033[93m(FN)\\033[0m\", end='')\n",
    "            elif (label_list[i] != label_list[j]) and (dist <= threshold):\n",
    "                print(\"\\033[93m(FP)\\033[0m\", end='')\n",
    "        print('')\n",
    "        \n",
    "def printData(labels, paths, number):\n",
    "    for i in range(number):\n",
    "        if i > 0 and labels[i] != labels[i-1]:\n",
    "            print('')\n",
    "        print('{0:3d} {1:3d}   {2:s}'.format(i, labels[i], paths[i].split(\"\\\\\")[1]))\n",
    "        # print('{0:3d}   {1:s}'.format(labels[i], paths[i].split(\"\\\\\")[1]))\n",
    "        \n",
    "def PCAtransform(emb_array, n_components = 10):\n",
    "    pca = PCA(n_components, whiten=True)\n",
    "    pca.fit(emb_array)\n",
    "    return pca.transform(emb_array), pca\n",
    "\n",
    "def splitTrainTest(data_set, percent_train):\n",
    "    paths, labels_list = facenet.get_image_paths_and_labels(data_set)\n",
    "    \n",
    "    lng = len(paths)\n",
    "    lng_train = int(lng * percent_train / 100);\n",
    "    lng_test = lng - lng_train\n",
    "    \n",
    "    train_paths = paths[0:lng_train]\n",
    "    test_paths = paths[lng_train:]\n",
    "    \n",
    "    train_labels = labels_list[0:lng_train]\n",
    "    test_labels = labels_list[lng_train:]\n",
    "    \n",
    "    return train_paths, train_labels, test_paths, test_labels\n",
    "\n",
    "def trainFisher(emb_array, y):\n",
    "    emb_del = np.empty_like(emb_array)\n",
    "    np.copyto(emb_del, emb_array)\n",
    "    \n",
    "    emb_array = np.vstack((emb_array, y))\n",
    "    \n",
    "    # y = emb_array[sample_number]\n",
    "    # emb_del = np.delete(emb_array, (sample_number), axis=0)\n",
    "    \n",
    "    E = np.linalg.inv(np.cov(emb_array.T))\n",
    "    D = (y - (1 / (len(emb_array) - 1) * np.sum(emb_del)))\n",
    "    \n",
    "    w = np.dot(E, D)\n",
    "    c = np.dot(w / np.linalg.norm(w), y)\n",
    "    \n",
    "    return c, w\n",
    "\n",
    "def trainFisherWithNum(emb_array, sample_number):    \n",
    "    y = emb_array[sample_number]\n",
    "    emb_del = np.delete(emb_array, (sample_number), axis=0)\n",
    "    \n",
    "    E = np.linalg.inv(np.cov(emb_array.T))\n",
    "    D = (y - (1 / (len(emb_array) - 1) * np.sum(emb_del)))\n",
    "    \n",
    "    w = np.dot(E, D)\n",
    "    c = np.dot(w / np.linalg.norm(w), y)\n",
    "    \n",
    "    return c, w    \n",
    "\n",
    "def Fisher(w, c, sample):\n",
    "    return np.dot(w / np.linalg.norm(w), sample) - c"
   ]
  },
  {
   "cell_type": "code",
   "execution_count": 4,
   "metadata": {
    "collapsed": true
   },
   "outputs": [],
   "source": [
    "sess = tf.Session()"
   ]
  },
  {
   "cell_type": "code",
   "execution_count": 5,
   "metadata": {
    "collapsed": true
   },
   "outputs": [],
   "source": [
    "data_set = facenet.get_dataset(\"../../datasets/lfw/lfw_mtcnnpy_160/\")"
   ]
  },
  {
   "cell_type": "code",
   "execution_count": 6,
   "metadata": {
    "collapsed": true
   },
   "outputs": [],
   "source": [
    "train_paths, train_labels, test_paths, test_labels = splitTrainTest(data_set, 100)"
   ]
  },
  {
   "cell_type": "code",
   "execution_count": 7,
   "metadata": {},
   "outputs": [
    {
     "name": "stdout",
     "output_type": "stream",
     "text": [
      "Model directory: 20170511-185253\n",
      "Metagraph file: model-20170511-185253.meta\n",
      "Checkpoint file: model-20170511-185253.ckpt-80000\n",
      "WARNING:tensorflow:The saved meta_graph is possibly from an older release:\n",
      "'model_variables' collection should be of type 'byte_list', but instead is of type 'node_list'.\n",
      "INFO:tensorflow:Restoring parameters from 20170511-185253\\model-20170511-185253.ckpt-80000\n"
     ]
    }
   ],
   "source": [
    "load_model(\"20170511-185253\", sess)"
   ]
  },
  {
   "cell_type": "code",
   "execution_count": 8,
   "metadata": {
    "collapsed": true
   },
   "outputs": [],
   "source": [
    "images_placeholder = tf.get_default_graph().get_tensor_by_name(\"input:0\")\n",
    "embeddings = tf.get_default_graph().get_tensor_by_name(\"embeddings:0\")\n",
    "phase_train_placeholder = tf.get_default_graph().get_tensor_by_name(\"phase_train:0\")\n",
    "\n",
    "image_size = 160\n",
    "embedding_size = embeddings.get_shape()[1]"
   ]
  },
  {
   "cell_type": "code",
   "execution_count": 9,
   "metadata": {},
   "outputs": [
    {
     "name": "stdout",
     "output_type": "stream",
     "text": [
      "batch number: 0\n",
      "batch number: 1\n",
      "batch number: 2\n",
      "batch number: 3\n",
      "batch number: 4\n",
      "batch number: 5\n",
      "batch number: 6\n",
      "batch number: 7\n",
      "batch number: 8\n",
      "batch number: 9\n",
      "batch number: 10\n",
      "batch number: 11\n",
      "batch number: 12\n",
      "batch number: 13\n",
      "batch number: 14\n",
      "batch number: 15\n",
      "batch number: 16\n",
      "batch number: 17\n",
      "batch number: 18\n",
      "batch number: 19\n",
      "batch number: 20\n",
      "batch number: 21\n",
      "batch number: 22\n",
      "batch number: 23\n",
      "batch number: 24\n",
      "batch number: 25\n",
      "batch number: 26\n",
      "batch number: 27\n",
      "batch number: 28\n",
      "batch number: 29\n",
      "batch number: 30\n",
      "batch number: 31\n",
      "batch number: 32\n",
      "batch number: 33\n",
      "batch number: 34\n",
      "batch number: 35\n",
      "batch number: 36\n",
      "batch number: 37\n",
      "batch number: 38\n",
      "batch number: 39\n",
      "batch number: 40\n",
      "batch number: 41\n",
      "batch number: 42\n",
      "batch number: 43\n",
      "batch number: 44\n",
      "batch number: 45\n",
      "batch number: 46\n",
      "batch number: 47\n",
      "batch number: 48\n",
      "batch number: 49\n",
      "batch number: 50\n",
      "batch number: 51\n",
      "batch number: 52\n",
      "batch number: 53\n",
      "batch number: 54\n",
      "batch number: 55\n",
      "batch number: 56\n",
      "batch number: 57\n",
      "batch number: 58\n",
      "batch number: 59\n",
      "batch number: 60\n",
      "batch number: 61\n",
      "batch number: 62\n",
      "batch number: 63\n",
      "batch number: 64\n",
      "batch number: 65\n",
      "batch number: 66\n",
      "batch number: 67\n",
      "batch number: 68\n",
      "batch number: 69\n",
      "batch number: 70\n",
      "batch number: 71\n",
      "batch number: 72\n",
      "batch number: 73\n",
      "batch number: 74\n",
      "batch number: 75\n",
      "batch number: 76\n",
      "batch number: 77\n",
      "batch number: 78\n",
      "batch number: 79\n",
      "batch number: 80\n",
      "batch number: 81\n",
      "batch number: 82\n",
      "batch number: 83\n",
      "batch number: 84\n",
      "batch number: 85\n",
      "batch number: 86\n",
      "batch number: 87\n",
      "batch number: 88\n",
      "batch number: 89\n",
      "batch number: 90\n",
      "batch number: 91\n",
      "batch number: 92\n",
      "batch number: 93\n",
      "batch number: 94\n",
      "batch number: 95\n",
      "batch number: 96\n",
      "batch number: 97\n",
      "batch number: 98\n",
      "batch number: 99\n",
      "batch number: 100\n",
      "batch number: 101\n",
      "batch number: 102\n",
      "batch number: 103\n",
      "batch number: 104\n",
      "batch number: 105\n",
      "batch number: 106\n",
      "batch number: 107\n",
      "batch number: 108\n",
      "batch number: 109\n",
      "batch number: 110\n",
      "batch number: 111\n",
      "batch number: 112\n",
      "batch number: 113\n",
      "batch number: 114\n",
      "batch number: 115\n",
      "batch number: 116\n",
      "batch number: 117\n",
      "batch number: 118\n",
      "batch number: 119\n",
      "batch number: 120\n",
      "batch number: 121\n",
      "batch number: 122\n",
      "batch number: 123\n",
      "batch number: 124\n",
      "batch number: 125\n",
      "batch number: 126\n",
      "batch number: 127\n",
      "batch number: 128\n",
      "batch number: 129\n",
      "batch number: 130\n",
      "batch number: 131\n",
      "batch number: 132\n",
      "Complete\n"
     ]
    }
   ],
   "source": [
    "emb_array = forward(train_paths, 100) # 100 means 100 mini-batches"
   ]
  },
  {
   "cell_type": "code",
   "execution_count": 10,
   "metadata": {
    "collapsed": true
   },
   "outputs": [],
   "source": [
    "emb_origin = np.empty_like(emb_array)\n",
    "np.copyto(emb_origin, emb_array)"
   ]
  },
  {
   "cell_type": "code",
   "execution_count": 23,
   "metadata": {},
   "outputs": [
    {
     "name": "stdout",
     "output_type": "stream",
     "text": [
      "  0   0   AJ_Cook_0001.png\n",
      "\n",
      "  1   1   AJ_Lamas_0001.png\n",
      "\n",
      "  2   2   Aaron_Eckhart_0001.png\n",
      "\n",
      "  3   3   Aaron_Guiel_0001.png\n",
      "\n",
      "  4   4   Aaron_Patterson_0001.png\n",
      "\n",
      "  5   5   Aaron_Peirsol_0001.png\n",
      "  6   5   Aaron_Peirsol_0002.png\n",
      "  7   5   Aaron_Peirsol_0003.png\n",
      "  8   5   Aaron_Peirsol_0004.png\n",
      "\n",
      "  9   6   Aaron_Pena_0001.png\n",
      "\n",
      " 10   7   Aaron_Sorkin_0001.png\n",
      " 11   7   Aaron_Sorkin_0002.png\n",
      "\n",
      " 12   8   Aaron_Tippin_0001.png\n",
      "\n",
      " 13   9   Abba_Eban_0001.png\n",
      "\n",
      " 14  10   Abbas_Kiarostami_0001.png\n",
      "\n",
      " 15  11   Abdel_Aziz_Al-Hakim_0001.png\n",
      "\n",
      " 16  12   Abdel_Madi_Shabneh_0001.png\n",
      "\n",
      " 17  13   Abdel_Nasser_Assidi_0001.png\n",
      " 18  13   Abdel_Nasser_Assidi_0002.png\n",
      "\n",
      " 19  14   Abdoulaye_Wade_0001.png\n"
     ]
    }
   ],
   "source": [
    "printData(train_labels, train_paths, 20)"
   ]
  },
  {
   "cell_type": "code",
   "execution_count": 12,
   "metadata": {
    "collapsed": true
   },
   "outputs": [],
   "source": [
    "emb_array = np.delete(emb_array, (6), axis=0)"
   ]
  },
  {
   "cell_type": "code",
   "execution_count": 33,
   "metadata": {},
   "outputs": [
    {
     "data": {
      "image/png": "[encoded data removed]",
      "text/plain": [
       "<matplotlib.figure.Figure at 0xe5e6ae3b38>"
      ]
     },
     "metadata": {},
     "output_type": "display_data"
    }
   ],
   "source": [
    "pca = PCA().fit(emb_array)\n",
    "\n",
    "# 90% of variance\n",
    "plt.figure(figsize=(8, 6))\n",
    "plt.plot(np.cumsum(pca.explained_variance_ratio_), color='k', lw=2)\n",
    "plt.yticks(np.arange(0, 1.2, 0.1))\n",
    "plt.axvline(60, c='r')\n",
    "plt.axhline(1.0, c='r')\n",
    "plt.grid(b=True, which='major', color='grey', linestyle='-')\n",
    "plt.show()\n",
    "\n",
    "emb_pca, _ = PCAtransform(emb_array, 120)"
   ]
  },
  {
   "cell_type": "code",
   "execution_count": 14,
   "metadata": {
    "collapsed": true
   },
   "outputs": [],
   "source": [
    "origin_pca, _ = PCAtransform(emb_origin, 120)"
   ]
  },
  {
   "cell_type": "code",
   "execution_count": 15,
   "metadata": {
    "collapsed": true
   },
   "outputs": [],
   "source": [
    "c, w = trainFisherWithNum(emb_pca, 5)"
   ]
  },
  {
   "cell_type": "code",
   "execution_count": 31,
   "metadata": {},
   "outputs": [
    {
     "name": "stdout",
     "output_type": "stream",
     "text": [
      "1.0\n"
     ]
    }
   ],
   "source": [
    "lng = len(origin_pca)\n",
    "summ = 0\n",
    "thr = -5.5\n",
    "for i in range(lng):\n",
    "    l = Fisher(w, c, origin_pca[i])\n",
    "    if l > thr and train_labels[i] ==5:\n",
    "        summ += 1\n",
    "    elif l < thr and train_labels[i] != 5:\n",
    "        summ += 1\n",
    "    else: print(i, l, train_labels[i])\n",
    "print(summ / lng)"
   ]
  }
 ],
 "metadata": {
  "kernelspec": {
   "display_name": "Python 3",
   "language": "python",
   "name": "python3"
  },
  "language_info": {
   "codemirror_mode": {
    "name": "ipython",
    "version": 3
   },
   "file_extension": ".py",
   "mimetype": "text/x-python",
   "name": "python",
   "nbconvert_exporter": "python",
   "pygments_lexer": "ipython3",
   "version": "3.6.3"
  }
 },
 "nbformat": 4,
 "nbformat_minor": 2
}
